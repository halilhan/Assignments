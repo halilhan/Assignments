{
 "cells": [
  {
   "cell_type": "markdown",
   "source": [
    "## Descriptive Statistics"
   ],
   "metadata": {
    "id": "K7S4cEyZLTp7"
   }
  },
  {
   "cell_type": "markdown",
   "source": [
    " Import **NumPy**, **SciPy**, and **Pandas**"
   ],
   "metadata": {
    "id": "vZRYVyc8H7hi"
   }
  },
  {
   "cell_type": "code",
   "execution_count": 1,
   "source": [
    "import numpy as np;\n",
    "import pandas as pd\n",
    "import scipy as sp"
   ],
   "outputs": [],
   "metadata": {
    "ExecuteTime": {
     "end_time": "2021-10-01T10:30:20.410122Z",
     "start_time": "2021-10-01T10:30:20.397115Z"
    },
    "id": "7ShN0klrHIk3"
   }
  },
  {
   "cell_type": "markdown",
   "source": [
    " Randomly generate 1,000 samples from the normal distribution using `np.random.normal()`(mean = 100, standard deviation = 15)"
   ],
   "metadata": {
    "id": "_SaQURIqIA6d"
   }
  },
  {
   "cell_type": "code",
   "execution_count": 2,
   "source": [
    "mean, standard_deviation = 100, 15  # mean and standard deviation\n",
    "samples =np.random.normal(mean , standard_deviation,1000)\n",
    "np.set_printoptions(threshold=10)\n",
    "samples"
   ],
   "outputs": [
    {
     "output_type": "execute_result",
     "data": {
      "text/plain": [
       "array([112.07934772, 104.99553429, 138.46573962, ...,  96.49544401,\n",
       "       105.70345128, 124.46514906])"
      ]
     },
     "metadata": {},
     "execution_count": 2
    }
   ],
   "metadata": {
    "ExecuteTime": {
     "end_time": "2021-10-01T10:44:28.448535Z",
     "start_time": "2021-10-01T10:44:28.432817Z"
    },
    "id": "Jyw_FMX0IRkm"
   }
  },
  {
   "cell_type": "markdown",
   "source": [
    "Compute the **mean**, **median**, and **mode**"
   ],
   "metadata": {
    "id": "CDF8m3a4IYOC"
   }
  },
  {
   "cell_type": "code",
   "execution_count": 3,
   "source": [
    "from scipy import stats\n",
    "\n",
    "mean =np.mean(samples)\n",
    "median =np.median(samples)\n",
    "mode =stats.mode(samples)\n",
    "print(\" mean : \", mean,\"\\n\", \"median : \", median, \"\\n\",\"mode : \", mode) "
   ],
   "outputs": [
    {
     "output_type": "stream",
     "name": "stdout",
     "text": [
      " mean :  100.27797709099269 \n",
      " median :  100.09487864147368 \n",
      " mode :  ModeResult(mode=array([56.3147173]), count=array([1]))\n"
     ]
    }
   ],
   "metadata": {
    "ExecuteTime": {
     "end_time": "2021-10-01T10:38:14.844125Z",
     "start_time": "2021-10-01T10:38:14.819492Z"
    },
    "id": "ZKbeqxaKIoNs"
   }
  },
  {
   "cell_type": "markdown",
   "source": [
    "Compute the **min**, **max**, **Q1**, **Q3**, and **interquartile range**"
   ],
   "metadata": {
    "id": "skT8m39XI60w"
   }
  },
  {
   "cell_type": "code",
   "execution_count": 4,
   "source": [
    "min = np.min(samples)\n",
    "max = np.max(samples)\n",
    "q1 =np.percentile(samples,25)\n",
    "q3 =np.percentile(samples,75)\n",
    "iqr =q3-q1\n",
    "\n",
    "print(\"max :\" , max,\n",
    "      \"\\nmin :\",  min,\n",
    "      \"\\nq1  :\",   q1,\n",
    "      \"\\nq3  :\",  q3,\n",
    "      \"\\niqr :\",  iqr)"
   ],
   "outputs": [
    {
     "output_type": "stream",
     "name": "stdout",
     "text": [
      "max : 138.61770025051214 \n",
      "min : 56.31471729711392 \n",
      "q1  : 90.98879541488985 \n",
      "q3  : 110.56168336102432 \n",
      "iqr : 19.572887946134472\n"
     ]
    }
   ],
   "metadata": {
    "ExecuteTime": {
     "end_time": "2021-10-01T10:30:20.472225Z",
     "start_time": "2021-10-01T10:30:20.458134Z"
    },
    "id": "VaiDphm8It0O"
   }
  },
  {
   "cell_type": "markdown",
   "source": [
    "Compute the **variance** and **standard deviation**"
   ],
   "metadata": {
    "id": "m53Dv3n5JHQi"
   }
  },
  {
   "cell_type": "code",
   "execution_count": 5,
   "source": [
    "variance = np.var(samples)\n",
    "std_dev = np.std(samples)\n",
    "print(\"variance :\" , variance,\"\\n\",\"std_dev :\",std_dev)"
   ],
   "outputs": [
    {
     "output_type": "stream",
     "name": "stdout",
     "text": [
      "variance : 215.73774088063465 \n",
      " std_dev : 14.688013510363975\n"
     ]
    }
   ],
   "metadata": {
    "ExecuteTime": {
     "end_time": "2021-10-01T10:30:20.488229Z",
     "start_time": "2021-10-01T10:30:20.474227Z"
    },
    "id": "6JFaAYdrJbeN"
   }
  },
  {
   "cell_type": "markdown",
   "source": [
    "Compute the **skewness** and **kurtosis**"
   ],
   "metadata": {
    "id": "5eup4hI1JzqX"
   }
  },
  {
   "cell_type": "code",
   "execution_count": 6,
   "source": [
    "from scipy.stats import skew\n",
    "from scipy.stats import kurtosis\n",
    "\n",
    "skewness = skew(samples)\n",
    "kurtosis = kurtosis(samples)\n",
    "print(\" skewness :\", skewness,\"\\n\",\"kurtosis :\", kurtosis)"
   ],
   "outputs": [
    {
     "output_type": "stream",
     "name": "stdout",
     "text": [
      " skewness : -0.06602285541334692 \n",
      " kurtosis : -0.1548800835562001\n"
     ]
    }
   ],
   "metadata": {
    "ExecuteTime": {
     "end_time": "2021-10-01T10:38:39.026008Z",
     "start_time": "2021-10-01T10:38:39.016994Z"
    },
    "id": "YO3obyDnJ3_D"
   }
  },
  {
   "cell_type": "markdown",
   "source": [
    "## NumPy Correlation Calculation"
   ],
   "metadata": {
    "id": "a5UNc8PUKnbU"
   }
  },
  {
   "cell_type": "markdown",
   "source": [
    "Create an array x of integers between 10 (inclusive) and 20 (exclusive). Use `np.arange()`"
   ],
   "metadata": {
    "id": "cLiqxE1CMNTg"
   }
  },
  {
   "cell_type": "code",
   "execution_count": 7,
   "source": [
    "x = np.arange(10,20)\n",
    "x"
   ],
   "outputs": [
    {
     "output_type": "execute_result",
     "data": {
      "text/plain": [
       "array([10, 11, 12, 13, 14, 15, 16, 17, 18, 19])"
      ]
     },
     "metadata": {},
     "execution_count": 7
    }
   ],
   "metadata": {
    "ExecuteTime": {
     "end_time": "2021-10-01T10:30:20.520235Z",
     "start_time": "2021-10-01T10:30:20.509234Z"
    },
    "id": "5LAaQ6w5L-2L"
   }
  },
  {
   "cell_type": "markdown",
   "source": [
    "Then use `np.array()` to create a second array y containing 10 arbitrary integers."
   ],
   "metadata": {
    "id": "qyCIaukNMZPf"
   }
  },
  {
   "cell_type": "code",
   "execution_count": 8,
   "source": [
    "y = np.array([10,12,14,16,18,20,22,24,26,28])"
   ],
   "outputs": [],
   "metadata": {
    "ExecuteTime": {
     "end_time": "2021-10-01T10:30:20.536239Z",
     "start_time": "2021-10-01T10:30:20.527239Z"
    }
   }
  },
  {
   "cell_type": "markdown",
   "source": [
    "Once you have two arrays of the same length, you can compute the **correlation coefficient** between x and y"
   ],
   "metadata": {
    "id": "Kh_VeKwINSqS"
   }
  },
  {
   "cell_type": "code",
   "execution_count": 9,
   "source": [
    "r = np.corrcoef(x,y)\n",
    "r"
   ],
   "outputs": [
    {
     "output_type": "execute_result",
     "data": {
      "text/plain": [
       "array([[1., 1.],\n",
       "       [1., 1.]])"
      ]
     },
     "metadata": {},
     "execution_count": 9
    }
   ],
   "metadata": {
    "ExecuteTime": {
     "end_time": "2021-10-01T10:32:43.344913Z",
     "start_time": "2021-10-01T10:32:43.325668Z"
    },
    "id": "yrtC6rPkNSDC"
   }
  },
  {
   "cell_type": "markdown",
   "source": [
    "## Pandas Correlation Calculation"
   ],
   "metadata": {
    "id": "vXieLjYiNtPi"
   }
  },
  {
   "cell_type": "markdown",
   "source": [
    "Run the code below"
   ],
   "metadata": {
    "id": "z56t0k0qNvkr"
   }
  },
  {
   "cell_type": "code",
   "execution_count": 10,
   "source": [
    "x = pd.Series(range(10, 20))\n",
    "y = pd.Series([2, 1, 4, 5, 8, 12, 18, 25, 96, 48])"
   ],
   "outputs": [],
   "metadata": {
    "ExecuteTime": {
     "end_time": "2021-10-01T10:30:20.583490Z",
     "start_time": "2021-10-01T10:30:20.571489Z"
    },
    "id": "9AVBMJCyNuwb"
   }
  },
  {
   "cell_type": "markdown",
   "source": [
    "Call the relevant method  to calculate Pearson's r correlation."
   ],
   "metadata": {
    "id": "ZajVXYe2OCih"
   }
  },
  {
   "cell_type": "code",
   "execution_count": 11,
   "source": [
    "r =pd.concat([x,y], axis=1).corr(method=\"pearson\")\n",
    "print(\"r :\",r)"
   ],
   "outputs": [
    {
     "output_type": "stream",
     "name": "stdout",
     "text": [
      "r :          0        1\n",
      "0  1.00000  0.75864\n",
      "1  0.75864  1.00000\n"
     ]
    }
   ],
   "metadata": {
    "ExecuteTime": {
     "end_time": "2021-10-01T10:35:50.483076Z",
     "start_time": "2021-10-01T10:35:50.467537Z"
    },
    "id": "Ak_rkzbLOafj"
   }
  },
  {
   "cell_type": "markdown",
   "source": [
    "OPTIONAL. Call the relevant method to calculate Spearman's rho correlation."
   ],
   "metadata": {
    "id": "1CygSbnROb9V"
   }
  },
  {
   "cell_type": "code",
   "execution_count": 12,
   "source": [
    "rho =pd.concat([x,y], axis=1).corr(method=\"spearman\")\n",
    "rho"
   ],
   "outputs": [
    {
     "output_type": "execute_result",
     "data": {
      "text/html": [
       "<div>\n",
       "<style scoped>\n",
       "    .dataframe tbody tr th:only-of-type {\n",
       "        vertical-align: middle;\n",
       "    }\n",
       "\n",
       "    .dataframe tbody tr th {\n",
       "        vertical-align: top;\n",
       "    }\n",
       "\n",
       "    .dataframe thead th {\n",
       "        text-align: right;\n",
       "    }\n",
       "</style>\n",
       "<table border=\"1\" class=\"dataframe\">\n",
       "  <thead>\n",
       "    <tr style=\"text-align: right;\">\n",
       "      <th></th>\n",
       "      <th>0</th>\n",
       "      <th>1</th>\n",
       "    </tr>\n",
       "  </thead>\n",
       "  <tbody>\n",
       "    <tr>\n",
       "      <th>0</th>\n",
       "      <td>1.000000</td>\n",
       "      <td>0.975758</td>\n",
       "    </tr>\n",
       "    <tr>\n",
       "      <th>1</th>\n",
       "      <td>0.975758</td>\n",
       "      <td>1.000000</td>\n",
       "    </tr>\n",
       "  </tbody>\n",
       "</table>\n",
       "</div>"
      ],
      "text/plain": [
       "          0         1\n",
       "0  1.000000  0.975758\n",
       "1  0.975758  1.000000"
      ]
     },
     "metadata": {},
     "execution_count": 12
    }
   ],
   "metadata": {
    "ExecuteTime": {
     "end_time": "2021-10-01T10:35:54.299439Z",
     "start_time": "2021-10-01T10:35:54.275846Z"
    },
    "id": "xp_QkXwmOlYY"
   }
  },
  {
   "cell_type": "markdown",
   "source": [
    "## Seaborn Dataset Tips"
   ],
   "metadata": {
    "id": "we7pg7kdOo7y"
   }
  },
  {
   "cell_type": "markdown",
   "source": [
    "Import Seaborn Library"
   ],
   "metadata": {
    "id": "VlzgFKN7OvqX"
   }
  },
  {
   "cell_type": "code",
   "execution_count": 13,
   "source": [
    "import seaborn as sns"
   ],
   "outputs": [],
   "metadata": {
    "ExecuteTime": {
     "end_time": "2021-10-01T10:30:21.138588Z",
     "start_time": "2021-10-01T10:30:20.629502Z"
    },
    "id": "t-49JRRqO4pw"
   }
  },
  {
   "cell_type": "markdown",
   "source": [
    "Load \"tips\" dataset from Seaborn"
   ],
   "metadata": {
    "id": "0INVBB4tO4y4"
   }
  },
  {
   "cell_type": "code",
   "execution_count": 14,
   "source": [
    "tips = sns.load_dataset(\"tips\")"
   ],
   "outputs": [],
   "metadata": {
    "ExecuteTime": {
     "end_time": "2021-10-01T10:30:21.170597Z",
     "start_time": "2021-10-01T10:30:21.141596Z"
    },
    "id": "kieLvcM1PBv7"
   }
  },
  {
   "cell_type": "code",
   "execution_count": 15,
   "source": [
    "tips"
   ],
   "outputs": [
    {
     "output_type": "execute_result",
     "data": {
      "text/html": [
       "<div>\n",
       "<style scoped>\n",
       "    .dataframe tbody tr th:only-of-type {\n",
       "        vertical-align: middle;\n",
       "    }\n",
       "\n",
       "    .dataframe tbody tr th {\n",
       "        vertical-align: top;\n",
       "    }\n",
       "\n",
       "    .dataframe thead th {\n",
       "        text-align: right;\n",
       "    }\n",
       "</style>\n",
       "<table border=\"1\" class=\"dataframe\">\n",
       "  <thead>\n",
       "    <tr style=\"text-align: right;\">\n",
       "      <th></th>\n",
       "      <th>total_bill</th>\n",
       "      <th>tip</th>\n",
       "      <th>sex</th>\n",
       "      <th>smoker</th>\n",
       "      <th>day</th>\n",
       "      <th>time</th>\n",
       "      <th>size</th>\n",
       "    </tr>\n",
       "  </thead>\n",
       "  <tbody>\n",
       "    <tr>\n",
       "      <th>0</th>\n",
       "      <td>16.99</td>\n",
       "      <td>1.01</td>\n",
       "      <td>Female</td>\n",
       "      <td>No</td>\n",
       "      <td>Sun</td>\n",
       "      <td>Dinner</td>\n",
       "      <td>2</td>\n",
       "    </tr>\n",
       "    <tr>\n",
       "      <th>1</th>\n",
       "      <td>10.34</td>\n",
       "      <td>1.66</td>\n",
       "      <td>Male</td>\n",
       "      <td>No</td>\n",
       "      <td>Sun</td>\n",
       "      <td>Dinner</td>\n",
       "      <td>3</td>\n",
       "    </tr>\n",
       "    <tr>\n",
       "      <th>2</th>\n",
       "      <td>21.01</td>\n",
       "      <td>3.50</td>\n",
       "      <td>Male</td>\n",
       "      <td>No</td>\n",
       "      <td>Sun</td>\n",
       "      <td>Dinner</td>\n",
       "      <td>3</td>\n",
       "    </tr>\n",
       "    <tr>\n",
       "      <th>3</th>\n",
       "      <td>23.68</td>\n",
       "      <td>3.31</td>\n",
       "      <td>Male</td>\n",
       "      <td>No</td>\n",
       "      <td>Sun</td>\n",
       "      <td>Dinner</td>\n",
       "      <td>2</td>\n",
       "    </tr>\n",
       "    <tr>\n",
       "      <th>4</th>\n",
       "      <td>24.59</td>\n",
       "      <td>3.61</td>\n",
       "      <td>Female</td>\n",
       "      <td>No</td>\n",
       "      <td>Sun</td>\n",
       "      <td>Dinner</td>\n",
       "      <td>4</td>\n",
       "    </tr>\n",
       "    <tr>\n",
       "      <th>...</th>\n",
       "      <td>...</td>\n",
       "      <td>...</td>\n",
       "      <td>...</td>\n",
       "      <td>...</td>\n",
       "      <td>...</td>\n",
       "      <td>...</td>\n",
       "      <td>...</td>\n",
       "    </tr>\n",
       "    <tr>\n",
       "      <th>239</th>\n",
       "      <td>29.03</td>\n",
       "      <td>5.92</td>\n",
       "      <td>Male</td>\n",
       "      <td>No</td>\n",
       "      <td>Sat</td>\n",
       "      <td>Dinner</td>\n",
       "      <td>3</td>\n",
       "    </tr>\n",
       "    <tr>\n",
       "      <th>240</th>\n",
       "      <td>27.18</td>\n",
       "      <td>2.00</td>\n",
       "      <td>Female</td>\n",
       "      <td>Yes</td>\n",
       "      <td>Sat</td>\n",
       "      <td>Dinner</td>\n",
       "      <td>2</td>\n",
       "    </tr>\n",
       "    <tr>\n",
       "      <th>241</th>\n",
       "      <td>22.67</td>\n",
       "      <td>2.00</td>\n",
       "      <td>Male</td>\n",
       "      <td>Yes</td>\n",
       "      <td>Sat</td>\n",
       "      <td>Dinner</td>\n",
       "      <td>2</td>\n",
       "    </tr>\n",
       "    <tr>\n",
       "      <th>242</th>\n",
       "      <td>17.82</td>\n",
       "      <td>1.75</td>\n",
       "      <td>Male</td>\n",
       "      <td>No</td>\n",
       "      <td>Sat</td>\n",
       "      <td>Dinner</td>\n",
       "      <td>2</td>\n",
       "    </tr>\n",
       "    <tr>\n",
       "      <th>243</th>\n",
       "      <td>18.78</td>\n",
       "      <td>3.00</td>\n",
       "      <td>Female</td>\n",
       "      <td>No</td>\n",
       "      <td>Thur</td>\n",
       "      <td>Dinner</td>\n",
       "      <td>2</td>\n",
       "    </tr>\n",
       "  </tbody>\n",
       "</table>\n",
       "<p>244 rows × 7 columns</p>\n",
       "</div>"
      ],
      "text/plain": [
       "     total_bill   tip     sex smoker   day    time  size\n",
       "0         16.99  1.01  Female     No   Sun  Dinner     2\n",
       "1         10.34  1.66    Male     No   Sun  Dinner     3\n",
       "2         21.01  3.50    Male     No   Sun  Dinner     3\n",
       "3         23.68  3.31    Male     No   Sun  Dinner     2\n",
       "4         24.59  3.61  Female     No   Sun  Dinner     4\n",
       "..          ...   ...     ...    ...   ...     ...   ...\n",
       "239       29.03  5.92    Male     No   Sat  Dinner     3\n",
       "240       27.18  2.00  Female    Yes   Sat  Dinner     2\n",
       "241       22.67  2.00    Male    Yes   Sat  Dinner     2\n",
       "242       17.82  1.75    Male     No   Sat  Dinner     2\n",
       "243       18.78  3.00  Female     No  Thur  Dinner     2\n",
       "\n",
       "[244 rows x 7 columns]"
      ]
     },
     "metadata": {},
     "execution_count": 15
    }
   ],
   "metadata": {
    "ExecuteTime": {
     "end_time": "2021-10-01T10:30:21.218613Z",
     "start_time": "2021-10-01T10:30:21.175604Z"
    }
   }
  },
  {
   "cell_type": "markdown",
   "source": [
    "Generate descriptive statistics include those that summarize the central tendency, dispersion"
   ],
   "metadata": {
    "id": "o2ISqVQrPh5S"
   }
  },
  {
   "cell_type": "code",
   "execution_count": 16,
   "source": [
    "tips.describe()"
   ],
   "outputs": [
    {
     "output_type": "execute_result",
     "data": {
      "text/html": [
       "<div>\n",
       "<style scoped>\n",
       "    .dataframe tbody tr th:only-of-type {\n",
       "        vertical-align: middle;\n",
       "    }\n",
       "\n",
       "    .dataframe tbody tr th {\n",
       "        vertical-align: top;\n",
       "    }\n",
       "\n",
       "    .dataframe thead th {\n",
       "        text-align: right;\n",
       "    }\n",
       "</style>\n",
       "<table border=\"1\" class=\"dataframe\">\n",
       "  <thead>\n",
       "    <tr style=\"text-align: right;\">\n",
       "      <th></th>\n",
       "      <th>total_bill</th>\n",
       "      <th>tip</th>\n",
       "      <th>size</th>\n",
       "    </tr>\n",
       "  </thead>\n",
       "  <tbody>\n",
       "    <tr>\n",
       "      <th>count</th>\n",
       "      <td>244.000000</td>\n",
       "      <td>244.000000</td>\n",
       "      <td>244.000000</td>\n",
       "    </tr>\n",
       "    <tr>\n",
       "      <th>mean</th>\n",
       "      <td>19.785943</td>\n",
       "      <td>2.998279</td>\n",
       "      <td>2.569672</td>\n",
       "    </tr>\n",
       "    <tr>\n",
       "      <th>std</th>\n",
       "      <td>8.902412</td>\n",
       "      <td>1.383638</td>\n",
       "      <td>0.951100</td>\n",
       "    </tr>\n",
       "    <tr>\n",
       "      <th>min</th>\n",
       "      <td>3.070000</td>\n",
       "      <td>1.000000</td>\n",
       "      <td>1.000000</td>\n",
       "    </tr>\n",
       "    <tr>\n",
       "      <th>25%</th>\n",
       "      <td>13.347500</td>\n",
       "      <td>2.000000</td>\n",
       "      <td>2.000000</td>\n",
       "    </tr>\n",
       "    <tr>\n",
       "      <th>50%</th>\n",
       "      <td>17.795000</td>\n",
       "      <td>2.900000</td>\n",
       "      <td>2.000000</td>\n",
       "    </tr>\n",
       "    <tr>\n",
       "      <th>75%</th>\n",
       "      <td>24.127500</td>\n",
       "      <td>3.562500</td>\n",
       "      <td>3.000000</td>\n",
       "    </tr>\n",
       "    <tr>\n",
       "      <th>max</th>\n",
       "      <td>50.810000</td>\n",
       "      <td>10.000000</td>\n",
       "      <td>6.000000</td>\n",
       "    </tr>\n",
       "  </tbody>\n",
       "</table>\n",
       "</div>"
      ],
      "text/plain": [
       "       total_bill         tip        size\n",
       "count  244.000000  244.000000  244.000000\n",
       "mean    19.785943    2.998279    2.569672\n",
       "std      8.902412    1.383638    0.951100\n",
       "min      3.070000    1.000000    1.000000\n",
       "25%     13.347500    2.000000    2.000000\n",
       "50%     17.795000    2.900000    2.000000\n",
       "75%     24.127500    3.562500    3.000000\n",
       "max     50.810000   10.000000    6.000000"
      ]
     },
     "metadata": {},
     "execution_count": 16
    }
   ],
   "metadata": {
    "ExecuteTime": {
     "end_time": "2021-10-01T10:30:21.266620Z",
     "start_time": "2021-10-01T10:30:21.222608Z"
    },
    "id": "FyFvmdbJPVg6"
   }
  },
  {
   "cell_type": "markdown",
   "source": [
    "Call the relevant method to calculate pairwise Pearson's r correlation of columns"
   ],
   "metadata": {
    "id": "3yCRK4VJPzRo"
   }
  },
  {
   "cell_type": "code",
   "execution_count": 17,
   "source": [
    "tip=tips[\"tip\"]\n",
    "size=tips[\"size\"]\n",
    "r=pd.concat([tip,size], axis=1).corr(method=\"pearson\")\n",
    "r\n"
   ],
   "outputs": [
    {
     "output_type": "execute_result",
     "data": {
      "text/html": [
       "<div>\n",
       "<style scoped>\n",
       "    .dataframe tbody tr th:only-of-type {\n",
       "        vertical-align: middle;\n",
       "    }\n",
       "\n",
       "    .dataframe tbody tr th {\n",
       "        vertical-align: top;\n",
       "    }\n",
       "\n",
       "    .dataframe thead th {\n",
       "        text-align: right;\n",
       "    }\n",
       "</style>\n",
       "<table border=\"1\" class=\"dataframe\">\n",
       "  <thead>\n",
       "    <tr style=\"text-align: right;\">\n",
       "      <th></th>\n",
       "      <th>tip</th>\n",
       "      <th>size</th>\n",
       "    </tr>\n",
       "  </thead>\n",
       "  <tbody>\n",
       "    <tr>\n",
       "      <th>tip</th>\n",
       "      <td>1.000000</td>\n",
       "      <td>0.489299</td>\n",
       "    </tr>\n",
       "    <tr>\n",
       "      <th>size</th>\n",
       "      <td>0.489299</td>\n",
       "      <td>1.000000</td>\n",
       "    </tr>\n",
       "  </tbody>\n",
       "</table>\n",
       "</div>"
      ],
      "text/plain": [
       "           tip      size\n",
       "tip   1.000000  0.489299\n",
       "size  0.489299  1.000000"
      ]
     },
     "metadata": {},
     "execution_count": 17
    }
   ],
   "metadata": {
    "ExecuteTime": {
     "end_time": "2021-10-01T10:30:21.298633Z",
     "start_time": "2021-10-01T10:30:21.271619Z"
    },
    "id": "qwvGzDU8PGnM"
   }
  },
  {
   "cell_type": "code",
   "execution_count": null,
   "source": [],
   "outputs": [],
   "metadata": {}
  }
 ],
 "metadata": {
  "colab": {
   "collapsed_sections": [],
   "name": "Statistics Assignment-2.ipynb adlı not defterinin kopyası",
   "provenance": [
    {
     "file_id": "1O2kbEFsoWUWvoxhJrHzFytRdK28a0OOr",
     "timestamp": 1633071747035
    }
   ]
  },
  "kernelspec": {
   "name": "python3",
   "display_name": "Python 3.8.8 64-bit ('base': conda)"
  },
  "language_info": {
   "codemirror_mode": {
    "name": "ipython",
    "version": 3
   },
   "file_extension": ".py",
   "mimetype": "text/x-python",
   "name": "python",
   "nbconvert_exporter": "python",
   "pygments_lexer": "ipython3",
   "version": "3.8.8"
  },
  "interpreter": {
   "hash": "99bb696bbed8dce976c9191d0a36bc64c2fc5a12bbaaa0f617fffb0908ad3622"
  }
 },
 "nbformat": 4,
 "nbformat_minor": 1
}