{
 "cells": [
  {
   "cell_type": "markdown",
   "metadata": {},
   "source": [
    "___\n",
    "\n",
    "<p style=\"text-align: center;\"><img src=\"https://docs.google.com/uc?id=1lY0Uj5R04yMY3-ZppPWxqCr5pvBLYPnV\" class=\"img-fluid\" alt=\"CLRSWY\"></p>\n",
    "\n",
    "___"
   ]
  },
  {
   "cell_type": "markdown",
   "metadata": {},
   "source": [
    "<h1 style=\"text-align: center;\">Deep Learning<br><br>Assignment-1 (ANN)<br><br>Churn Prediction for Bank Customer<br><h1>"
   ]
  },
  {
   "cell_type": "markdown",
   "metadata": {},
   "source": [
    "## Dataset Info"
   ]
  },
  {
   "cell_type": "markdown",
   "metadata": {},
   "source": [
    "We have a dataset in which there are details of a bank's customers and the target variable is a binary variable reflecting the fact whether the customer left the bank (closed his account) or he continues to be a customer."
   ]
  },
  {
   "cell_type": "markdown",
   "metadata": {},
   "source": [
    "## Improt Libraries"
   ]
  },
  {
   "cell_type": "code",
   "execution_count": 1,
   "metadata": {},
   "outputs": [],
   "source": [
    "import numpy as np\n",
    "import pandas as pd\n",
    "import matplotlib.pyplot as plt\n",
    "import seaborn as sns\n",
    "\n",
    "import warnings\n",
    "warnings.filterwarnings(\"ignore\")\n",
    "warnings.warn(\"this will not show\")\n",
    "\n",
    "plt.rcParams[\"figure.figsize\"] = (10,6)\n",
    "\n",
    "sns.set_style(\"whitegrid\")\n",
    "pd.set_option('display.float_format', lambda x: '%.3f' % x)\n",
    "\n",
    "# Set it None to display all rows in the dataframe\n",
    "# pd.set_option('display.max_rows', None)\n",
    "\n",
    "# Set it to None to display all columns in the dataframe\n",
    "pd.set_option('display.max_columns', None)"
   ]
  },
  {
   "cell_type": "markdown",
   "metadata": {},
   "source": [
    "## Indest Data"
   ]
  },
  {
   "cell_type": "code",
   "execution_count": 2,
   "metadata": {},
   "outputs": [],
   "source": [
    "data = pd.read_csv(\"Churn_Modelling.csv\")"
   ]
  },
  {
   "cell_type": "markdown",
   "metadata": {},
   "source": [
    "## Exploratory Data Analysis and Visualization"
   ]
  },
  {
   "cell_type": "markdown",
   "metadata": {},
   "source": [
    "1. Implement basic steps to see how is your data looks like\n",
    "2. Check for missing values\n",
    "3. Drop the features that not suitable for modelling\n",
    "4. Implement basic visualization steps such as histogram, countplot, heatmap\n",
    "5. Convert categorical variables to dummy variables"
   ]
  },
  {
   "cell_type": "code",
   "execution_count": 3,
   "metadata": {},
   "outputs": [
    {
     "data": {
      "text/html": [
       "<div>\n",
       "<style scoped>\n",
       "    .dataframe tbody tr th:only-of-type {\n",
       "        vertical-align: middle;\n",
       "    }\n",
       "\n",
       "    .dataframe tbody tr th {\n",
       "        vertical-align: top;\n",
       "    }\n",
       "\n",
       "    .dataframe thead th {\n",
       "        text-align: right;\n",
       "    }\n",
       "</style>\n",
       "<table border=\"1\" class=\"dataframe\">\n",
       "  <thead>\n",
       "    <tr style=\"text-align: right;\">\n",
       "      <th></th>\n",
       "      <th>RowNumber</th>\n",
       "      <th>CustomerId</th>\n",
       "      <th>Surname</th>\n",
       "      <th>CreditScore</th>\n",
       "      <th>Geography</th>\n",
       "      <th>Gender</th>\n",
       "      <th>Age</th>\n",
       "      <th>Tenure</th>\n",
       "      <th>Balance</th>\n",
       "      <th>NumOfProducts</th>\n",
       "      <th>HasCrCard</th>\n",
       "      <th>IsActiveMember</th>\n",
       "      <th>EstimatedSalary</th>\n",
       "      <th>Exited</th>\n",
       "    </tr>\n",
       "  </thead>\n",
       "  <tbody>\n",
       "    <tr>\n",
       "      <th>0</th>\n",
       "      <td>1</td>\n",
       "      <td>15634602</td>\n",
       "      <td>Hargrave</td>\n",
       "      <td>619</td>\n",
       "      <td>France</td>\n",
       "      <td>Female</td>\n",
       "      <td>42</td>\n",
       "      <td>2</td>\n",
       "      <td>0.000</td>\n",
       "      <td>1</td>\n",
       "      <td>1</td>\n",
       "      <td>1</td>\n",
       "      <td>101348.880</td>\n",
       "      <td>1</td>\n",
       "    </tr>\n",
       "    <tr>\n",
       "      <th>1</th>\n",
       "      <td>2</td>\n",
       "      <td>15647311</td>\n",
       "      <td>Hill</td>\n",
       "      <td>608</td>\n",
       "      <td>Spain</td>\n",
       "      <td>Female</td>\n",
       "      <td>41</td>\n",
       "      <td>1</td>\n",
       "      <td>83807.860</td>\n",
       "      <td>1</td>\n",
       "      <td>0</td>\n",
       "      <td>1</td>\n",
       "      <td>112542.580</td>\n",
       "      <td>0</td>\n",
       "    </tr>\n",
       "    <tr>\n",
       "      <th>2</th>\n",
       "      <td>3</td>\n",
       "      <td>15619304</td>\n",
       "      <td>Onio</td>\n",
       "      <td>502</td>\n",
       "      <td>France</td>\n",
       "      <td>Female</td>\n",
       "      <td>42</td>\n",
       "      <td>8</td>\n",
       "      <td>159660.800</td>\n",
       "      <td>3</td>\n",
       "      <td>1</td>\n",
       "      <td>0</td>\n",
       "      <td>113931.570</td>\n",
       "      <td>1</td>\n",
       "    </tr>\n",
       "    <tr>\n",
       "      <th>3</th>\n",
       "      <td>4</td>\n",
       "      <td>15701354</td>\n",
       "      <td>Boni</td>\n",
       "      <td>699</td>\n",
       "      <td>France</td>\n",
       "      <td>Female</td>\n",
       "      <td>39</td>\n",
       "      <td>1</td>\n",
       "      <td>0.000</td>\n",
       "      <td>2</td>\n",
       "      <td>0</td>\n",
       "      <td>0</td>\n",
       "      <td>93826.630</td>\n",
       "      <td>0</td>\n",
       "    </tr>\n",
       "    <tr>\n",
       "      <th>4</th>\n",
       "      <td>5</td>\n",
       "      <td>15737888</td>\n",
       "      <td>Mitchell</td>\n",
       "      <td>850</td>\n",
       "      <td>Spain</td>\n",
       "      <td>Female</td>\n",
       "      <td>43</td>\n",
       "      <td>2</td>\n",
       "      <td>125510.820</td>\n",
       "      <td>1</td>\n",
       "      <td>1</td>\n",
       "      <td>1</td>\n",
       "      <td>79084.100</td>\n",
       "      <td>0</td>\n",
       "    </tr>\n",
       "  </tbody>\n",
       "</table>\n",
       "</div>"
      ],
      "text/plain": [
       "   RowNumber  CustomerId   Surname  CreditScore Geography  Gender  Age  \\\n",
       "0          1    15634602  Hargrave          619    France  Female   42   \n",
       "1          2    15647311      Hill          608     Spain  Female   41   \n",
       "2          3    15619304      Onio          502    France  Female   42   \n",
       "3          4    15701354      Boni          699    France  Female   39   \n",
       "4          5    15737888  Mitchell          850     Spain  Female   43   \n",
       "\n",
       "   Tenure    Balance  NumOfProducts  HasCrCard  IsActiveMember  \\\n",
       "0       2      0.000              1          1               1   \n",
       "1       1  83807.860              1          0               1   \n",
       "2       8 159660.800              3          1               0   \n",
       "3       1      0.000              2          0               0   \n",
       "4       2 125510.820              1          1               1   \n",
       "\n",
       "   EstimatedSalary  Exited  \n",
       "0       101348.880       1  \n",
       "1       112542.580       0  \n",
       "2       113931.570       1  \n",
       "3        93826.630       0  \n",
       "4        79084.100       0  "
      ]
     },
     "execution_count": 3,
     "metadata": {},
     "output_type": "execute_result"
    }
   ],
   "source": [
    "data.head()"
   ]
  },
  {
   "cell_type": "code",
   "execution_count": 4,
   "metadata": {},
   "outputs": [
    {
     "name": "stdout",
     "output_type": "stream",
     "text": [
      "<class 'pandas.core.frame.DataFrame'>\n",
      "RangeIndex: 10000 entries, 0 to 9999\n",
      "Data columns (total 14 columns):\n",
      " #   Column           Non-Null Count  Dtype  \n",
      "---  ------           --------------  -----  \n",
      " 0   RowNumber        10000 non-null  int64  \n",
      " 1   CustomerId       10000 non-null  int64  \n",
      " 2   Surname          10000 non-null  object \n",
      " 3   CreditScore      10000 non-null  int64  \n",
      " 4   Geography        10000 non-null  object \n",
      " 5   Gender           10000 non-null  object \n",
      " 6   Age              10000 non-null  int64  \n",
      " 7   Tenure           10000 non-null  int64  \n",
      " 8   Balance          10000 non-null  float64\n",
      " 9   NumOfProducts    10000 non-null  int64  \n",
      " 10  HasCrCard        10000 non-null  int64  \n",
      " 11  IsActiveMember   10000 non-null  int64  \n",
      " 12  EstimatedSalary  10000 non-null  float64\n",
      " 13  Exited           10000 non-null  int64  \n",
      "dtypes: float64(2), int64(9), object(3)\n",
      "memory usage: 1.1+ MB\n"
     ]
    }
   ],
   "source": [
    "data.info()"
   ]
  },
  {
   "cell_type": "code",
   "execution_count": 5,
   "metadata": {},
   "outputs": [
    {
     "data": {
      "text/plain": [
       "RowNumber          0\n",
       "CustomerId         0\n",
       "Surname            0\n",
       "CreditScore        0\n",
       "Geography          0\n",
       "Gender             0\n",
       "Age                0\n",
       "Tenure             0\n",
       "Balance            0\n",
       "NumOfProducts      0\n",
       "HasCrCard          0\n",
       "IsActiveMember     0\n",
       "EstimatedSalary    0\n",
       "Exited             0\n",
       "dtype: int64"
      ]
     },
     "execution_count": 5,
     "metadata": {},
     "output_type": "execute_result"
    }
   ],
   "source": [
    "data.isna().sum()"
   ]
  },
  {
   "cell_type": "code",
   "execution_count": 6,
   "metadata": {},
   "outputs": [
    {
     "data": {
      "text/html": [
       "<div>\n",
       "<style scoped>\n",
       "    .dataframe tbody tr th:only-of-type {\n",
       "        vertical-align: middle;\n",
       "    }\n",
       "\n",
       "    .dataframe tbody tr th {\n",
       "        vertical-align: top;\n",
       "    }\n",
       "\n",
       "    .dataframe thead th {\n",
       "        text-align: right;\n",
       "    }\n",
       "</style>\n",
       "<table border=\"1\" class=\"dataframe\">\n",
       "  <thead>\n",
       "    <tr style=\"text-align: right;\">\n",
       "      <th></th>\n",
       "      <th>RowNumber</th>\n",
       "      <th>CustomerId</th>\n",
       "      <th>CreditScore</th>\n",
       "      <th>Age</th>\n",
       "      <th>Tenure</th>\n",
       "      <th>Balance</th>\n",
       "      <th>NumOfProducts</th>\n",
       "      <th>HasCrCard</th>\n",
       "      <th>IsActiveMember</th>\n",
       "      <th>EstimatedSalary</th>\n",
       "      <th>Exited</th>\n",
       "    </tr>\n",
       "  </thead>\n",
       "  <tbody>\n",
       "    <tr>\n",
       "      <th>count</th>\n",
       "      <td>10000.000</td>\n",
       "      <td>10000.000</td>\n",
       "      <td>10000.000</td>\n",
       "      <td>10000.000</td>\n",
       "      <td>10000.000</td>\n",
       "      <td>10000.000</td>\n",
       "      <td>10000.000</td>\n",
       "      <td>10000.000</td>\n",
       "      <td>10000.000</td>\n",
       "      <td>10000.000</td>\n",
       "      <td>10000.000</td>\n",
       "    </tr>\n",
       "    <tr>\n",
       "      <th>mean</th>\n",
       "      <td>5000.500</td>\n",
       "      <td>15690940.569</td>\n",
       "      <td>650.529</td>\n",
       "      <td>38.922</td>\n",
       "      <td>5.013</td>\n",
       "      <td>76485.889</td>\n",
       "      <td>1.530</td>\n",
       "      <td>0.706</td>\n",
       "      <td>0.515</td>\n",
       "      <td>100090.240</td>\n",
       "      <td>0.204</td>\n",
       "    </tr>\n",
       "    <tr>\n",
       "      <th>std</th>\n",
       "      <td>2886.896</td>\n",
       "      <td>71936.186</td>\n",
       "      <td>96.653</td>\n",
       "      <td>10.488</td>\n",
       "      <td>2.892</td>\n",
       "      <td>62397.405</td>\n",
       "      <td>0.582</td>\n",
       "      <td>0.456</td>\n",
       "      <td>0.500</td>\n",
       "      <td>57510.493</td>\n",
       "      <td>0.403</td>\n",
       "    </tr>\n",
       "    <tr>\n",
       "      <th>min</th>\n",
       "      <td>1.000</td>\n",
       "      <td>15565701.000</td>\n",
       "      <td>350.000</td>\n",
       "      <td>18.000</td>\n",
       "      <td>0.000</td>\n",
       "      <td>0.000</td>\n",
       "      <td>1.000</td>\n",
       "      <td>0.000</td>\n",
       "      <td>0.000</td>\n",
       "      <td>11.580</td>\n",
       "      <td>0.000</td>\n",
       "    </tr>\n",
       "    <tr>\n",
       "      <th>25%</th>\n",
       "      <td>2500.750</td>\n",
       "      <td>15628528.250</td>\n",
       "      <td>584.000</td>\n",
       "      <td>32.000</td>\n",
       "      <td>3.000</td>\n",
       "      <td>0.000</td>\n",
       "      <td>1.000</td>\n",
       "      <td>0.000</td>\n",
       "      <td>0.000</td>\n",
       "      <td>51002.110</td>\n",
       "      <td>0.000</td>\n",
       "    </tr>\n",
       "    <tr>\n",
       "      <th>50%</th>\n",
       "      <td>5000.500</td>\n",
       "      <td>15690738.000</td>\n",
       "      <td>652.000</td>\n",
       "      <td>37.000</td>\n",
       "      <td>5.000</td>\n",
       "      <td>97198.540</td>\n",
       "      <td>1.000</td>\n",
       "      <td>1.000</td>\n",
       "      <td>1.000</td>\n",
       "      <td>100193.915</td>\n",
       "      <td>0.000</td>\n",
       "    </tr>\n",
       "    <tr>\n",
       "      <th>75%</th>\n",
       "      <td>7500.250</td>\n",
       "      <td>15753233.750</td>\n",
       "      <td>718.000</td>\n",
       "      <td>44.000</td>\n",
       "      <td>7.000</td>\n",
       "      <td>127644.240</td>\n",
       "      <td>2.000</td>\n",
       "      <td>1.000</td>\n",
       "      <td>1.000</td>\n",
       "      <td>149388.247</td>\n",
       "      <td>0.000</td>\n",
       "    </tr>\n",
       "    <tr>\n",
       "      <th>max</th>\n",
       "      <td>10000.000</td>\n",
       "      <td>15815690.000</td>\n",
       "      <td>850.000</td>\n",
       "      <td>92.000</td>\n",
       "      <td>10.000</td>\n",
       "      <td>250898.090</td>\n",
       "      <td>4.000</td>\n",
       "      <td>1.000</td>\n",
       "      <td>1.000</td>\n",
       "      <td>199992.480</td>\n",
       "      <td>1.000</td>\n",
       "    </tr>\n",
       "  </tbody>\n",
       "</table>\n",
       "</div>"
      ],
      "text/plain": [
       "       RowNumber   CustomerId  CreditScore       Age    Tenure    Balance  \\\n",
       "count  10000.000    10000.000    10000.000 10000.000 10000.000  10000.000   \n",
       "mean    5000.500 15690940.569      650.529    38.922     5.013  76485.889   \n",
       "std     2886.896    71936.186       96.653    10.488     2.892  62397.405   \n",
       "min        1.000 15565701.000      350.000    18.000     0.000      0.000   \n",
       "25%     2500.750 15628528.250      584.000    32.000     3.000      0.000   \n",
       "50%     5000.500 15690738.000      652.000    37.000     5.000  97198.540   \n",
       "75%     7500.250 15753233.750      718.000    44.000     7.000 127644.240   \n",
       "max    10000.000 15815690.000      850.000    92.000    10.000 250898.090   \n",
       "\n",
       "       NumOfProducts  HasCrCard  IsActiveMember  EstimatedSalary    Exited  \n",
       "count      10000.000  10000.000       10000.000        10000.000 10000.000  \n",
       "mean           1.530      0.706           0.515       100090.240     0.204  \n",
       "std            0.582      0.456           0.500        57510.493     0.403  \n",
       "min            1.000      0.000           0.000           11.580     0.000  \n",
       "25%            1.000      0.000           0.000        51002.110     0.000  \n",
       "50%            1.000      1.000           1.000       100193.915     0.000  \n",
       "75%            2.000      1.000           1.000       149388.247     0.000  \n",
       "max            4.000      1.000           1.000       199992.480     1.000  "
      ]
     },
     "execution_count": 6,
     "metadata": {},
     "output_type": "execute_result"
    }
   ],
   "source": [
    "data.describe()"
   ]
  },
  {
   "cell_type": "code",
   "execution_count": 7,
   "metadata": {},
   "outputs": [
    {
     "data": {
      "image/png": "[encoded data removed]",
      "text/plain": [
       "<Figure size 720x432 with 1 Axes>"
      ]
     },
     "metadata": {},
     "output_type": "display_data"
    }
   ],
   "source": [
    "sns.countplot(data[\"Exited\"]);"
   ]
  },
  {
   "cell_type": "code",
   "execution_count": 8,
   "metadata": {},
   "outputs": [
    {
     "data": {
      "image/png": "[encoded data removed]",
      "text/plain": [
       "<Figure size 1440x1440 with 2 Axes>"
      ]
     },
     "metadata": {},
     "output_type": "display_data"
    }
   ],
   "source": [
    "plt.figure(figsize=(20,20))\n",
    "sns.heatmap(data.corr(), annot=True);"
   ]
  },
  {
   "cell_type": "code",
   "execution_count": 9,
   "metadata": {},
   "outputs": [],
   "source": [
    "#  # We first review the 'Status' relation with categorical variables\n",
    "# fig, axarr = plt.subplots(2, 2, figsize=(20, 12))\n",
    "\n",
    "# ax = sns.countplot(x='Geography', hue = 'Exited',data = data, ax=axarr[0][0], palette=\"coolwarm_r\")\n",
    "# ax.bar_label(ax.containers[0])\n",
    "# ax.bar_label(ax.containers[1])\n",
    "\n",
    "# ax = sns.countplot(x='Gender', hue = 'Exited',data = data, ax=axarr[0][1],palette=\"coolwarm_r\")\n",
    "# ax.bar_label(ax.containers[0])\n",
    "# ax.bar_label(ax.containers[1])\n",
    "\n",
    "# ax = sns.countplot(x='HasCrCard', hue = 'Exited',data = data, ax=axarr[1][0],palette=\"coolwarm_r\")\n",
    "# ax.bar_label(ax.containers[0])\n",
    "# ax.bar_label(ax.containers[1])\n",
    "\n",
    "# ax = sns.countplot(x='IsActiveMember', hue = 'Exited',data = data, ax=axarr[1][1],palette=\"coolwarm_r\")\n",
    "# ax.bar_label(ax.containers[0])\n",
    "# ax.bar_label(ax.containers[1])"
   ]
  },
  {
   "cell_type": "code",
   "execution_count": 10,
   "metadata": {},
   "outputs": [
    {
     "data": {
      "text/plain": [
       "Index(['RowNumber', 'CustomerId', 'Surname', 'CreditScore', 'Geography',\n",
       "       'Gender', 'Age', 'Tenure', 'Balance', 'NumOfProducts', 'HasCrCard',\n",
       "       'IsActiveMember', 'EstimatedSalary', 'Exited'],\n",
       "      dtype='object')"
      ]
     },
     "execution_count": 10,
     "metadata": {},
     "output_type": "execute_result"
    }
   ],
   "source": [
    "data.columns"
   ]
  },
  {
   "cell_type": "code",
   "execution_count": 11,
   "metadata": {},
   "outputs": [
    {
     "data": {
      "text/html": [
       "<div>\n",
       "<style scoped>\n",
       "    .dataframe tbody tr th:only-of-type {\n",
       "        vertical-align: middle;\n",
       "    }\n",
       "\n",
       "    .dataframe tbody tr th {\n",
       "        vertical-align: top;\n",
       "    }\n",
       "\n",
       "    .dataframe thead th {\n",
       "        text-align: right;\n",
       "    }\n",
       "</style>\n",
       "<table border=\"1\" class=\"dataframe\">\n",
       "  <thead>\n",
       "    <tr style=\"text-align: right;\">\n",
       "      <th></th>\n",
       "      <th>CreditScore</th>\n",
       "      <th>Geography</th>\n",
       "      <th>Gender</th>\n",
       "      <th>Age</th>\n",
       "      <th>Tenure</th>\n",
       "      <th>Balance</th>\n",
       "      <th>NumOfProducts</th>\n",
       "      <th>HasCrCard</th>\n",
       "      <th>IsActiveMember</th>\n",
       "      <th>EstimatedSalary</th>\n",
       "      <th>Exited</th>\n",
       "    </tr>\n",
       "  </thead>\n",
       "  <tbody>\n",
       "    <tr>\n",
       "      <th>0</th>\n",
       "      <td>619</td>\n",
       "      <td>France</td>\n",
       "      <td>Female</td>\n",
       "      <td>42</td>\n",
       "      <td>2</td>\n",
       "      <td>0.000</td>\n",
       "      <td>1</td>\n",
       "      <td>1</td>\n",
       "      <td>1</td>\n",
       "      <td>101348.880</td>\n",
       "      <td>1</td>\n",
       "    </tr>\n",
       "    <tr>\n",
       "      <th>1</th>\n",
       "      <td>608</td>\n",
       "      <td>Spain</td>\n",
       "      <td>Female</td>\n",
       "      <td>41</td>\n",
       "      <td>1</td>\n",
       "      <td>83807.860</td>\n",
       "      <td>1</td>\n",
       "      <td>0</td>\n",
       "      <td>1</td>\n",
       "      <td>112542.580</td>\n",
       "      <td>0</td>\n",
       "    </tr>\n",
       "    <tr>\n",
       "      <th>2</th>\n",
       "      <td>502</td>\n",
       "      <td>France</td>\n",
       "      <td>Female</td>\n",
       "      <td>42</td>\n",
       "      <td>8</td>\n",
       "      <td>159660.800</td>\n",
       "      <td>3</td>\n",
       "      <td>1</td>\n",
       "      <td>0</td>\n",
       "      <td>113931.570</td>\n",
       "      <td>1</td>\n",
       "    </tr>\n",
       "    <tr>\n",
       "      <th>3</th>\n",
       "      <td>699</td>\n",
       "      <td>France</td>\n",
       "      <td>Female</td>\n",
       "      <td>39</td>\n",
       "      <td>1</td>\n",
       "      <td>0.000</td>\n",
       "      <td>2</td>\n",
       "      <td>0</td>\n",
       "      <td>0</td>\n",
       "      <td>93826.630</td>\n",
       "      <td>0</td>\n",
       "    </tr>\n",
       "    <tr>\n",
       "      <th>4</th>\n",
       "      <td>850</td>\n",
       "      <td>Spain</td>\n",
       "      <td>Female</td>\n",
       "      <td>43</td>\n",
       "      <td>2</td>\n",
       "      <td>125510.820</td>\n",
       "      <td>1</td>\n",
       "      <td>1</td>\n",
       "      <td>1</td>\n",
       "      <td>79084.100</td>\n",
       "      <td>0</td>\n",
       "    </tr>\n",
       "  </tbody>\n",
       "</table>\n",
       "</div>"
      ],
      "text/plain": [
       "   CreditScore Geography  Gender  Age  Tenure    Balance  NumOfProducts  \\\n",
       "0          619    France  Female   42       2      0.000              1   \n",
       "1          608     Spain  Female   41       1  83807.860              1   \n",
       "2          502    France  Female   42       8 159660.800              3   \n",
       "3          699    France  Female   39       1      0.000              2   \n",
       "4          850     Spain  Female   43       2 125510.820              1   \n",
       "\n",
       "   HasCrCard  IsActiveMember  EstimatedSalary  Exited  \n",
       "0          1               1       101348.880       1  \n",
       "1          0               1       112542.580       0  \n",
       "2          1               0       113931.570       1  \n",
       "3          0               0        93826.630       0  \n",
       "4          1               1        79084.100       0  "
      ]
     },
     "execution_count": 11,
     "metadata": {},
     "output_type": "execute_result"
    }
   ],
   "source": [
    "drop_list = ['RowNumber', 'CustomerId', 'Surname']\n",
    "data = data.drop(drop_list, axis = 1)\n",
    "data.head()"
   ]
  },
  {
   "cell_type": "code",
   "execution_count": 12,
   "metadata": {},
   "outputs": [
    {
     "data": {
      "text/plain": [
       "France     5014\n",
       "Germany    2509\n",
       "Spain      2477\n",
       "Name: Geography, dtype: int64"
      ]
     },
     "execution_count": 12,
     "metadata": {},
     "output_type": "execute_result"
    }
   ],
   "source": [
    "data['Geography'].value_counts()"
   ]
  },
  {
   "cell_type": "code",
   "execution_count": 13,
   "metadata": {},
   "outputs": [],
   "source": [
    "from sklearn.preprocessing import LabelEncoder\n",
    "\n",
    "label = LabelEncoder()\n",
    "data['Geography'] = label.fit_transform(data['Geography'])\n",
    "data['Gender'] = label.fit_transform(data['Gender'])"
   ]
  },
  {
   "cell_type": "code",
   "execution_count": 15,
   "metadata": {},
   "outputs": [
    {
     "data": {
      "text/html": [
       "<div>\n",
       "<style scoped>\n",
       "    .dataframe tbody tr th:only-of-type {\n",
       "        vertical-align: middle;\n",
       "    }\n",
       "\n",
       "    .dataframe tbody tr th {\n",
       "        vertical-align: top;\n",
       "    }\n",
       "\n",
       "    .dataframe thead th {\n",
       "        text-align: right;\n",
       "    }\n",
       "</style>\n",
       "<table border=\"1\" class=\"dataframe\">\n",
       "  <thead>\n",
       "    <tr style=\"text-align: right;\">\n",
       "      <th></th>\n",
       "      <th>CreditScore</th>\n",
       "      <th>Geography</th>\n",
       "      <th>Gender</th>\n",
       "      <th>Age</th>\n",
       "      <th>Tenure</th>\n",
       "      <th>Balance</th>\n",
       "      <th>NumOfProducts</th>\n",
       "      <th>HasCrCard</th>\n",
       "      <th>IsActiveMember</th>\n",
       "      <th>EstimatedSalary</th>\n",
       "      <th>Exited</th>\n",
       "    </tr>\n",
       "  </thead>\n",
       "  <tbody>\n",
       "    <tr>\n",
       "      <th>0</th>\n",
       "      <td>619</td>\n",
       "      <td>0</td>\n",
       "      <td>0</td>\n",
       "      <td>42</td>\n",
       "      <td>2</td>\n",
       "      <td>0.000</td>\n",
       "      <td>1</td>\n",
       "      <td>1</td>\n",
       "      <td>1</td>\n",
       "      <td>101348.880</td>\n",
       "      <td>1</td>\n",
       "    </tr>\n",
       "    <tr>\n",
       "      <th>1</th>\n",
       "      <td>608</td>\n",
       "      <td>2</td>\n",
       "      <td>0</td>\n",
       "      <td>41</td>\n",
       "      <td>1</td>\n",
       "      <td>83807.860</td>\n",
       "      <td>1</td>\n",
       "      <td>0</td>\n",
       "      <td>1</td>\n",
       "      <td>112542.580</td>\n",
       "      <td>0</td>\n",
       "    </tr>\n",
       "    <tr>\n",
       "      <th>2</th>\n",
       "      <td>502</td>\n",
       "      <td>0</td>\n",
       "      <td>0</td>\n",
       "      <td>42</td>\n",
       "      <td>8</td>\n",
       "      <td>159660.800</td>\n",
       "      <td>3</td>\n",
       "      <td>1</td>\n",
       "      <td>0</td>\n",
       "      <td>113931.570</td>\n",
       "      <td>1</td>\n",
       "    </tr>\n",
       "    <tr>\n",
       "      <th>3</th>\n",
       "      <td>699</td>\n",
       "      <td>0</td>\n",
       "      <td>0</td>\n",
       "      <td>39</td>\n",
       "      <td>1</td>\n",
       "      <td>0.000</td>\n",
       "      <td>2</td>\n",
       "      <td>0</td>\n",
       "      <td>0</td>\n",
       "      <td>93826.630</td>\n",
       "      <td>0</td>\n",
       "    </tr>\n",
       "    <tr>\n",
       "      <th>4</th>\n",
       "      <td>850</td>\n",
       "      <td>2</td>\n",
       "      <td>0</td>\n",
       "      <td>43</td>\n",
       "      <td>2</td>\n",
       "      <td>125510.820</td>\n",
       "      <td>1</td>\n",
       "      <td>1</td>\n",
       "      <td>1</td>\n",
       "      <td>79084.100</td>\n",
       "      <td>0</td>\n",
       "    </tr>\n",
       "  </tbody>\n",
       "</table>\n",
       "</div>"
      ],
      "text/plain": [
       "   CreditScore  Geography  Gender  Age  Tenure    Balance  NumOfProducts  \\\n",
       "0          619          0       0   42       2      0.000              1   \n",
       "1          608          2       0   41       1  83807.860              1   \n",
       "2          502          0       0   42       8 159660.800              3   \n",
       "3          699          0       0   39       1      0.000              2   \n",
       "4          850          2       0   43       2 125510.820              1   \n",
       "\n",
       "   HasCrCard  IsActiveMember  EstimatedSalary  Exited  \n",
       "0          1               1       101348.880       1  \n",
       "1          0               1       112542.580       0  \n",
       "2          1               0       113931.570       1  \n",
       "3          0               0        93826.630       0  \n",
       "4          1               1        79084.100       0  "
      ]
     },
     "execution_count": 15,
     "metadata": {},
     "output_type": "execute_result"
    }
   ],
   "source": [
    "data.head()"
   ]
  },
  {
   "cell_type": "code",
   "execution_count": 16,
   "metadata": {},
   "outputs": [
    {
     "data": {
      "text/plain": [
       "(10000, 11)"
      ]
     },
     "execution_count": 16,
     "metadata": {},
     "output_type": "execute_result"
    }
   ],
   "source": [
    "data.shape"
   ]
  },
  {
   "cell_type": "code",
   "execution_count": 17,
   "metadata": {},
   "outputs": [
    {
     "data": {
      "image/png": "[encoded data removed]",
      "text/plain": [
       "<Figure size 576x720 with 1 Axes>"
      ]
     },
     "metadata": {},
     "output_type": "display_data"
    }
   ],
   "source": [
    "plt.figure(figsize = (8,10))\n",
    "data.corr()['Exited'].sort_values().drop(\"Exited\").plot(kind = \"barh\");"
   ]
  },
  {
   "cell_type": "code",
   "execution_count": 18,
   "metadata": {},
   "outputs": [
    {
     "data": {
      "image/png": "[encoded data removed]",
      "text/plain": [
       "<Figure size 720x576 with 1 Axes>"
      ]
     },
     "metadata": {},
     "output_type": "display_data"
    }
   ],
   "source": [
    "import random\n",
    "n = 40\n",
    "color = [\"#\" + ''.join([random.choice('0123456789ABCDEF')\n",
    "                        for j in range(6)]) for i in range(n)]\n",
    "labels = 'Exited', 'Retained'\n",
    "plt.figure(figsize=(10,8))\n",
    "explode = [0,0.1]\n",
    "plt.title(\"Proportion of customer churned and retained\", size = 20)\n",
    "plt.pie(data['Exited'].value_counts(), labels=labels,explode=explode,autopct='%1.1f%%', colors=color,shadow=True,startangle=90);"
   ]
  },
  {
   "cell_type": "markdown",
   "metadata": {},
   "source": [
    "## Preprocessing of Data\n",
    "- Train | Test Split, Scalling"
   ]
  },
  {
   "cell_type": "code",
   "execution_count": 19,
   "metadata": {},
   "outputs": [],
   "source": [
    "from sklearn.model_selection import train_test_split\n",
    "from sklearn.preprocessing import MinMaxScaler"
   ]
  },
  {
   "cell_type": "code",
   "execution_count": 20,
   "metadata": {},
   "outputs": [],
   "source": [
    "X = data.drop('Exited', axis=1)\n",
    "y = data['Exited'].values"
   ]
  },
  {
   "cell_type": "code",
   "execution_count": 21,
   "metadata": {},
   "outputs": [],
   "source": [
    "seed = 42\n",
    "test_size = 0.20"
   ]
  },
  {
   "cell_type": "code",
   "execution_count": 22,
   "metadata": {},
   "outputs": [],
   "source": [
    "X_train, X_test, y_train, y_test = train_test_split(X, y, stratify = y, test_size = test_size, random_state = seed)"
   ]
  },
  {
   "cell_type": "code",
   "execution_count": 23,
   "metadata": {},
   "outputs": [],
   "source": [
    "scaler = MinMaxScaler()"
   ]
  },
  {
   "cell_type": "code",
   "execution_count": 24,
   "metadata": {},
   "outputs": [],
   "source": [
    "X_train= scaler.fit_transform(X_train)\n",
    "X_test = scaler.transform(X_test)"
   ]
  },
  {
   "cell_type": "markdown",
   "metadata": {
    "id": "Ha9hDt_AoGaE"
   },
   "source": [
    "## Modelling & Model Performance"
   ]
  },
  {
   "cell_type": "markdown",
   "metadata": {},
   "source": [
    "### Import related libraries"
   ]
  },
  {
   "cell_type": "code",
   "execution_count": 85,
   "metadata": {},
   "outputs": [],
   "source": [
    "import tensorflow as tf\n",
    "from keras.models import Sequential\n",
    "from keras.layers import Dense, Activation, Dropout\n",
    "from keras.utils import np_utils\n",
    "from sklearn.model_selection import cross_val_score\n",
    "from sklearn.model_selection import KFold \n",
    "from sklearn.preprocessing import LabelEncoder\n",
    "from sklearn.pipeline import Pipeline\n",
    "from keras.callbacks import EarlyStopping\n",
    "from sklearn.metrics import classification_report, confusion_matrix\n",
    "from sklearn.metrics import plot_roc_curve, roc_auc_score, roc_curve\n",
    "from sklearn.model_selection import cross_val_score, cross_validate\n",
    "from sklearn.model_selection import GridSearchCV\n",
    "from tensorflow.keras.optimizers import Adam"
   ]
  },
  {
   "cell_type": "code",
   "execution_count": 86,
   "metadata": {},
   "outputs": [
    {
     "data": {
      "text/plain": [
       "'2.8.0'"
      ]
     },
     "execution_count": 86,
     "metadata": {},
     "output_type": "execute_result"
    }
   ],
   "source": [
    "tf.__version__"
   ]
  },
  {
   "cell_type": "code",
   "execution_count": 87,
   "metadata": {},
   "outputs": [
    {
     "data": {
      "text/plain": [
       "(8000, 10)"
      ]
     },
     "execution_count": 87,
     "metadata": {},
     "output_type": "execute_result"
    }
   ],
   "source": [
    "X_train.shape"
   ]
  },
  {
   "cell_type": "code",
   "execution_count": 88,
   "metadata": {},
   "outputs": [
    {
     "data": {
      "text/plain": [
       "(2000, 10)"
      ]
     },
     "execution_count": 88,
     "metadata": {},
     "output_type": "execute_result"
    }
   ],
   "source": [
    "X_test.shape"
   ]
  },
  {
   "cell_type": "markdown",
   "metadata": {},
   "source": [
    "### Creating Model"
   ]
  },
  {
   "cell_type": "markdown",
   "metadata": {},
   "source": [
    "### without class_weigth"
   ]
  },
  {
   "cell_type": "code",
   "execution_count": 89,
   "metadata": {},
   "outputs": [],
   "source": [
    "tf.random.set_seed(seed) # it should be with the weights cell\n",
    "\n",
    "model = Sequential()\n",
    "\n",
    "model.add(Dense(16, activation = \"relu\", input_dim = X_train.shape[1]))\n",
    "model.add(Dense(8, activation = \"relu\"))\n",
    "model.add(Dense(1, activation = \"sigmoid\"))\n",
    "\n",
    "model.compile(optimizer = \"adam\", loss = \"binary_crossentropy\", metrics = [\"accuracy\"])"
   ]
  },
  {
   "cell_type": "code",
   "execution_count": 90,
   "metadata": {},
   "outputs": [],
   "source": [
    "early_stop = EarlyStopping(monitor = \"val_loss\", mode = \"auto\", verbose = 1, patience = 15)"
   ]
  },
  {
   "cell_type": "code",
   "execution_count": 111,
   "metadata": {},
   "outputs": [
    {
     "name": "stdout",
     "output_type": "stream",
     "text": [
      "Epoch 1/1000\n",
      "225/225 [==============================] - 1s 2ms/step - loss: 0.4747 - accuracy: 0.7979 - val_loss: 0.4383 - val_accuracy: 0.8138\n",
      "Epoch 2/1000\n",
      "225/225 [==============================] - 0s 1ms/step - loss: 0.4358 - accuracy: 0.8086 - val_loss: 0.3911 - val_accuracy: 0.8413\n",
      "Epoch 3/1000\n",
      "225/225 [==============================] - 0s 1ms/step - loss: 0.3975 - accuracy: 0.8321 - val_loss: 0.3490 - val_accuracy: 0.8550\n",
      "Epoch 4/1000\n",
      "225/225 [==============================] - 0s 1ms/step - loss: 0.3748 - accuracy: 0.8453 - val_loss: 0.3406 - val_accuracy: 0.8612\n",
      "Epoch 5/1000\n",
      "225/225 [==============================] - 0s 1ms/step - loss: 0.3658 - accuracy: 0.8496 - val_loss: 0.3360 - val_accuracy: 0.8650\n",
      "Epoch 6/1000\n",
      "225/225 [==============================] - 0s 1ms/step - loss: 0.3638 - accuracy: 0.8486 - val_loss: 0.3387 - val_accuracy: 0.8662\n",
      "Epoch 7/1000\n",
      "225/225 [==============================] - 0s 1ms/step - loss: 0.3577 - accuracy: 0.8550 - val_loss: 0.3224 - val_accuracy: 0.8587\n",
      "Epoch 8/1000\n",
      "225/225 [==============================] - 0s 981us/step - loss: 0.3597 - accuracy: 0.8540 - val_loss: 0.3246 - val_accuracy: 0.8637\n",
      "Epoch 9/1000\n",
      "225/225 [==============================] - 0s 964us/step - loss: 0.3545 - accuracy: 0.8540 - val_loss: 0.3227 - val_accuracy: 0.8637\n",
      "Epoch 10/1000\n",
      "225/225 [==============================] - 0s 860us/step - loss: 0.3509 - accuracy: 0.8554 - val_loss: 0.3225 - val_accuracy: 0.8700\n",
      "Epoch 11/1000\n",
      "225/225 [==============================] - 0s 828us/step - loss: 0.3490 - accuracy: 0.8568 - val_loss: 0.3335 - val_accuracy: 0.8650\n",
      "Epoch 12/1000\n",
      "225/225 [==============================] - 0s 865us/step - loss: 0.3483 - accuracy: 0.8574 - val_loss: 0.3259 - val_accuracy: 0.8587\n",
      "Epoch 13/1000\n",
      "225/225 [==============================] - 0s 1ms/step - loss: 0.3487 - accuracy: 0.8558 - val_loss: 0.3170 - val_accuracy: 0.8637\n",
      "Epoch 14/1000\n",
      "225/225 [==============================] - 0s 1ms/step - loss: 0.3468 - accuracy: 0.8578 - val_loss: 0.3212 - val_accuracy: 0.8662\n",
      "Epoch 15/1000\n",
      "225/225 [==============================] - 0s 1ms/step - loss: 0.3470 - accuracy: 0.8569 - val_loss: 0.3193 - val_accuracy: 0.8700\n",
      "Epoch 16/1000\n",
      "225/225 [==============================] - 0s 1ms/step - loss: 0.3430 - accuracy: 0.8564 - val_loss: 0.3172 - val_accuracy: 0.8725\n",
      "Epoch 17/1000\n",
      "225/225 [==============================] - 0s 1ms/step - loss: 0.3406 - accuracy: 0.8604 - val_loss: 0.3124 - val_accuracy: 0.8675\n",
      "Epoch 18/1000\n",
      "225/225 [==============================] - 0s 1ms/step - loss: 0.3383 - accuracy: 0.8596 - val_loss: 0.3124 - val_accuracy: 0.8712\n",
      "Epoch 19/1000\n",
      "225/225 [==============================] - 0s 1ms/step - loss: 0.3366 - accuracy: 0.8587 - val_loss: 0.3210 - val_accuracy: 0.8637\n",
      "Epoch 20/1000\n",
      "225/225 [==============================] - 0s 1ms/step - loss: 0.3392 - accuracy: 0.8597 - val_loss: 0.3296 - val_accuracy: 0.8675\n",
      "Epoch 21/1000\n",
      "225/225 [==============================] - 0s 1ms/step - loss: 0.3356 - accuracy: 0.8594 - val_loss: 0.3162 - val_accuracy: 0.8750\n",
      "Epoch 22/1000\n",
      "225/225 [==============================] - 0s 1ms/step - loss: 0.3344 - accuracy: 0.8631 - val_loss: 0.3159 - val_accuracy: 0.8712\n",
      "Epoch 23/1000\n",
      "225/225 [==============================] - 0s 1ms/step - loss: 0.3354 - accuracy: 0.8599 - val_loss: 0.3151 - val_accuracy: 0.8700\n",
      "Epoch 24/1000\n",
      "225/225 [==============================] - 0s 1ms/step - loss: 0.3372 - accuracy: 0.8601 - val_loss: 0.3254 - val_accuracy: 0.8662\n",
      "Epoch 25/1000\n",
      "225/225 [==============================] - 0s 1ms/step - loss: 0.3344 - accuracy: 0.8599 - val_loss: 0.3171 - val_accuracy: 0.8675\n",
      "Epoch 26/1000\n",
      "225/225 [==============================] - 0s 1ms/step - loss: 0.3339 - accuracy: 0.8601 - val_loss: 0.3132 - val_accuracy: 0.8712\n",
      "Epoch 27/1000\n",
      "225/225 [==============================] - 0s 2ms/step - loss: 0.3329 - accuracy: 0.8614 - val_loss: 0.3218 - val_accuracy: 0.8737\n",
      "Epoch 28/1000\n",
      "225/225 [==============================] - 0s 1ms/step - loss: 0.3312 - accuracy: 0.8633 - val_loss: 0.3121 - val_accuracy: 0.8675\n",
      "Epoch 29/1000\n",
      "225/225 [==============================] - 0s 1ms/step - loss: 0.3305 - accuracy: 0.8612 - val_loss: 0.3220 - val_accuracy: 0.8700\n",
      "Epoch 30/1000\n",
      "225/225 [==============================] - 0s 966us/step - loss: 0.3322 - accuracy: 0.8624 - val_loss: 0.3145 - val_accuracy: 0.8737\n",
      "Epoch 31/1000\n",
      "225/225 [==============================] - 0s 1ms/step - loss: 0.3308 - accuracy: 0.8636 - val_loss: 0.3127 - val_accuracy: 0.8788\n",
      "Epoch 32/1000\n",
      "225/225 [==============================] - 0s 1ms/step - loss: 0.3305 - accuracy: 0.8639 - val_loss: 0.3188 - val_accuracy: 0.8700\n",
      "Epoch 33/1000\n",
      "225/225 [==============================] - 0s 1ms/step - loss: 0.3301 - accuracy: 0.8618 - val_loss: 0.3177 - val_accuracy: 0.8763\n",
      "Epoch 34/1000\n",
      "225/225 [==============================] - 0s 1ms/step - loss: 0.3297 - accuracy: 0.8632 - val_loss: 0.3077 - val_accuracy: 0.8788\n",
      "Epoch 35/1000\n",
      "225/225 [==============================] - 0s 1ms/step - loss: 0.3282 - accuracy: 0.8639 - val_loss: 0.3153 - val_accuracy: 0.8737\n",
      "Epoch 36/1000\n",
      "225/225 [==============================] - 0s 1ms/step - loss: 0.3272 - accuracy: 0.8657 - val_loss: 0.3162 - val_accuracy: 0.8700\n",
      "Epoch 37/1000\n",
      "225/225 [==============================] - 0s 1ms/step - loss: 0.3280 - accuracy: 0.8647 - val_loss: 0.3185 - val_accuracy: 0.8737\n",
      "Epoch 38/1000\n",
      "225/225 [==============================] - 0s 1ms/step - loss: 0.3271 - accuracy: 0.8639 - val_loss: 0.3238 - val_accuracy: 0.8675\n",
      "Epoch 39/1000\n",
      "225/225 [==============================] - 0s 1ms/step - loss: 0.3263 - accuracy: 0.8619 - val_loss: 0.3220 - val_accuracy: 0.8675\n",
      "Epoch 40/1000\n",
      "225/225 [==============================] - 0s 1ms/step - loss: 0.3289 - accuracy: 0.8629 - val_loss: 0.3130 - val_accuracy: 0.8750\n",
      "Epoch 41/1000\n",
      "225/225 [==============================] - 0s 1ms/step - loss: 0.3244 - accuracy: 0.8661 - val_loss: 0.3130 - val_accuracy: 0.8687\n",
      "Epoch 42/1000\n",
      "225/225 [==============================] - 0s 1ms/step - loss: 0.3261 - accuracy: 0.8664 - val_loss: 0.3240 - val_accuracy: 0.8737\n",
      "Epoch 43/1000\n",
      "225/225 [==============================] - 0s 1ms/step - loss: 0.3256 - accuracy: 0.8654 - val_loss: 0.3150 - val_accuracy: 0.8725\n",
      "Epoch 44/1000\n",
      "225/225 [==============================] - 0s 1ms/step - loss: 0.3251 - accuracy: 0.8651 - val_loss: 0.3200 - val_accuracy: 0.8725\n",
      "Epoch 45/1000\n",
      "225/225 [==============================] - 0s 1ms/step - loss: 0.3243 - accuracy: 0.8618 - val_loss: 0.3282 - val_accuracy: 0.8712\n",
      "Epoch 46/1000\n",
      "225/225 [==============================] - 0s 1ms/step - loss: 0.3234 - accuracy: 0.8661 - val_loss: 0.3242 - val_accuracy: 0.8637\n",
      "Epoch 47/1000\n",
      "225/225 [==============================] - 0s 1ms/step - loss: 0.3219 - accuracy: 0.8675 - val_loss: 0.3211 - val_accuracy: 0.8687\n",
      "Epoch 48/1000\n",
      "225/225 [==============================] - 0s 1ms/step - loss: 0.3232 - accuracy: 0.8674 - val_loss: 0.3204 - val_accuracy: 0.8712\n",
      "Epoch 49/1000\n",
      "225/225 [==============================] - 0s 1ms/step - loss: 0.3208 - accuracy: 0.8661 - val_loss: 0.3388 - val_accuracy: 0.8662\n",
      "Epoch 49: early stopping\n"
     ]
    }
   ],
   "source": [
    "history = model.fit(x = X_train, y = y_train, validation_split = 0.1, batch_size = 32, epochs = 1000, verbose=1, callbacks=[early_stop])\n",
    "# Validation_split takes last 10% of the data. It's just for validating our model work.\n",
    "# But in the validation data, you're separating a untouched data for validating.\n",
    "# validation_data = (X_test, y_test) "
   ]
  },
  {
   "cell_type": "markdown",
   "metadata": {},
   "source": [
    "#### Evaluate"
   ]
  },
  {
   "cell_type": "code",
   "execution_count": 112,
   "metadata": {},
   "outputs": [
    {
     "name": "stdout",
     "output_type": "stream",
     "text": [
      "63/63 [==============================] - 0s 2ms/step - loss: 0.3764 - accuracy: 0.8400\n"
     ]
    },
    {
     "data": {
      "text/plain": [
       "[0.3763584792613983, 0.8399999737739563]"
      ]
     },
     "execution_count": 112,
     "metadata": {},
     "output_type": "execute_result"
    }
   ],
   "source": [
    "model.evaluate(X_test,y_test)"
   ]
  },
  {
   "cell_type": "code",
   "execution_count": 113,
   "metadata": {},
   "outputs": [
    {
     "name": "stdout",
     "output_type": "stream",
     "text": [
      "Model: \"sequential_8\"\n",
      "_________________________________________________________________\n",
      " Layer (type)                Output Shape              Param #   \n",
      "=================================================================\n",
      " dense_24 (Dense)            (None, 30)                330       \n",
      "                                                                 \n",
      " dense_25 (Dense)            (None, 15)                465       \n",
      "                                                                 \n",
      " dense_26 (Dense)            (None, 1)                 16        \n",
      "                                                                 \n",
      "=================================================================\n",
      "Total params: 811\n",
      "Trainable params: 811\n",
      "Non-trainable params: 0\n",
      "_________________________________________________________________\n"
     ]
    }
   ],
   "source": [
    "model.summary()"
   ]
  },
  {
   "cell_type": "code",
   "execution_count": 114,
   "metadata": {},
   "outputs": [
    {
     "data": {
      "text/plain": [
       "<AxesSubplot:>"
      ]
     },
     "execution_count": 114,
     "metadata": {},
     "output_type": "execute_result"
    },
    {
     "data": {
      "image/png": "[encoded data removed]",
      "text/plain": [
       "<Figure size 720x432 with 1 Axes>"
      ]
     },
     "metadata": {},
     "output_type": "display_data"
    }
   ],
   "source": [
    "loss_df = pd.DataFrame(history.history)\n",
    "loss_df.plot()"
   ]
  },
  {
   "cell_type": "code",
   "execution_count": 115,
   "metadata": {},
   "outputs": [
    {
     "name": "stdout",
     "output_type": "stream",
     "text": [
      "loss :  0.3763584792613983\n",
      "accuracy :  0.8399999737739563\n"
     ]
    }
   ],
   "source": [
    "loss, accuracy = model.evaluate(X_test, y_test, verbose=0)\n",
    "print(\"loss : \", loss)\n",
    "print(\"accuracy : \", accuracy)"
   ]
  },
  {
   "cell_type": "code",
   "execution_count": 116,
   "metadata": {},
   "outputs": [
    {
     "name": "stdout",
     "output_type": "stream",
     "text": [
      "[[1432  161]\n",
      " [ 159  248]]\n",
      "              precision    recall  f1-score   support\n",
      "\n",
      "           0       0.90      0.90      0.90      1593\n",
      "           1       0.61      0.61      0.61       407\n",
      "\n",
      "    accuracy                           0.84      2000\n",
      "   macro avg       0.75      0.75      0.75      2000\n",
      "weighted avg       0.84      0.84      0.84      2000\n",
      "\n"
     ]
    }
   ],
   "source": [
    "y_pred = (model.predict(X_test) > 0.5).astype(\"int32\")\n",
    "#y_pred = model.predict_classes(X_test)\n",
    "print(confusion_matrix(y_test, y_pred))\n",
    "print(classification_report(y_test, y_pred))"
   ]
  },
  {
   "cell_type": "markdown",
   "metadata": {},
   "source": [
    "### with class_weigth\n",
    "\n",
    "Investigate how the \"class_weight\" hyper-parameter is used in a Neural Network."
   ]
  },
  {
   "cell_type": "code",
   "execution_count": 117,
   "metadata": {},
   "outputs": [],
   "source": [
    "from sklearn.utils import class_weight\n",
    "from tensorflow.keras.callbacks import EarlyStopping"
   ]
  },
  {
   "cell_type": "code",
   "execution_count": 118,
   "metadata": {},
   "outputs": [],
   "source": [
    "class_weights = class_weight.compute_class_weight('balanced',\n",
    "                                                 classes= np.unique(y_train),\n",
    "                                                 y = y_train)"
   ]
  },
  {
   "cell_type": "code",
   "execution_count": 119,
   "metadata": {},
   "outputs": [
    {
     "data": {
      "text/plain": [
       "array([0.62794349, 2.45398773])"
      ]
     },
     "execution_count": 119,
     "metadata": {},
     "output_type": "execute_result"
    }
   ],
   "source": [
    "class_weights"
   ]
  },
  {
   "cell_type": "code",
   "execution_count": 120,
   "metadata": {},
   "outputs": [
    {
     "name": "stdout",
     "output_type": "stream",
     "text": [
      "Model: \"sequential_10\"\n",
      "_________________________________________________________________\n",
      " Layer (type)                Output Shape              Param #   \n",
      "=================================================================\n",
      " dense_31 (Dense)            (None, 15)                165       \n",
      "                                                                 \n",
      " dense_32 (Dense)            (None, 10)                160       \n",
      "                                                                 \n",
      " dense_33 (Dense)            (None, 5)                 55        \n",
      "                                                                 \n",
      " dense_34 (Dense)            (None, 1)                 6         \n",
      "                                                                 \n",
      "=================================================================\n",
      "Total params: 386\n",
      "Trainable params: 386\n",
      "Non-trainable params: 0\n",
      "_________________________________________________________________\n",
      "Epoch 1/250\n",
      "100/100 [==============================] - 1s 2ms/step - loss: 0.6820 - accuracy: 0.3766 - val_loss: 0.6944 - val_accuracy: 0.6237\n",
      "Epoch 2/250\n",
      "100/100 [==============================] - 0s 1ms/step - loss: 0.6348 - accuracy: 0.6483 - val_loss: 0.6928 - val_accuracy: 0.6131\n",
      "Epoch 3/250\n",
      "100/100 [==============================] - 0s 1ms/step - loss: 0.6011 - accuracy: 0.6895 - val_loss: 0.6070 - val_accuracy: 0.7150\n",
      "Epoch 4/250\n",
      "100/100 [==============================] - 0s 1ms/step - loss: 0.5514 - accuracy: 0.7352 - val_loss: 0.5631 - val_accuracy: 0.7550\n",
      "Epoch 5/250\n",
      "100/100 [==============================] - 0s 1ms/step - loss: 0.5258 - accuracy: 0.7600 - val_loss: 0.5282 - val_accuracy: 0.7756\n",
      "Epoch 6/250\n",
      "100/100 [==============================] - 0s 1ms/step - loss: 0.5161 - accuracy: 0.7659 - val_loss: 0.4832 - val_accuracy: 0.8075\n",
      "Epoch 7/250\n",
      "100/100 [==============================] - 0s 1ms/step - loss: 0.5090 - accuracy: 0.7692 - val_loss: 0.5270 - val_accuracy: 0.7706\n",
      "Epoch 8/250\n",
      "100/100 [==============================] - 0s 1ms/step - loss: 0.5079 - accuracy: 0.7634 - val_loss: 0.4941 - val_accuracy: 0.7844\n",
      "Epoch 9/250\n",
      "100/100 [==============================] - 0s 1ms/step - loss: 0.4989 - accuracy: 0.7720 - val_loss: 0.5189 - val_accuracy: 0.7688\n",
      "Epoch 10/250\n",
      "100/100 [==============================] - 0s 1ms/step - loss: 0.4979 - accuracy: 0.7756 - val_loss: 0.4422 - val_accuracy: 0.8238\n",
      "Epoch 11/250\n",
      "100/100 [==============================] - 0s 1ms/step - loss: 0.4931 - accuracy: 0.7741 - val_loss: 0.4097 - val_accuracy: 0.8450\n",
      "Epoch 12/250\n",
      "100/100 [==============================] - 0s 1ms/step - loss: 0.4934 - accuracy: 0.7750 - val_loss: 0.4389 - val_accuracy: 0.8087\n",
      "Epoch 13/250\n",
      "100/100 [==============================] - 0s 1ms/step - loss: 0.4923 - accuracy: 0.7777 - val_loss: 0.5636 - val_accuracy: 0.7125\n",
      "Epoch 14/250\n",
      "100/100 [==============================] - 0s 1ms/step - loss: 0.4909 - accuracy: 0.7755 - val_loss: 0.5207 - val_accuracy: 0.7437\n",
      "Epoch 15/250\n",
      "100/100 [==============================] - 0s 2ms/step - loss: 0.4897 - accuracy: 0.7766 - val_loss: 0.4984 - val_accuracy: 0.7619\n",
      "Epoch 16/250\n",
      "100/100 [==============================] - 0s 1ms/step - loss: 0.4837 - accuracy: 0.7803 - val_loss: 0.4906 - val_accuracy: 0.7731\n",
      "Epoch 17/250\n",
      "100/100 [==============================] - 0s 1ms/step - loss: 0.4817 - accuracy: 0.7795 - val_loss: 0.5082 - val_accuracy: 0.7544\n",
      "Epoch 18/250\n",
      "100/100 [==============================] - 0s 2ms/step - loss: 0.4796 - accuracy: 0.7808 - val_loss: 0.4851 - val_accuracy: 0.7619\n",
      "Epoch 19/250\n",
      "100/100 [==============================] - 0s 1ms/step - loss: 0.4837 - accuracy: 0.7777 - val_loss: 0.4865 - val_accuracy: 0.7675\n",
      "Epoch 20/250\n",
      "100/100 [==============================] - 0s 1ms/step - loss: 0.4786 - accuracy: 0.7806 - val_loss: 0.4522 - val_accuracy: 0.7850\n",
      "Epoch 21/250\n",
      "100/100 [==============================] - 0s 2ms/step - loss: 0.4791 - accuracy: 0.7830 - val_loss: 0.4796 - val_accuracy: 0.7794\n",
      "Epoch 22/250\n",
      "100/100 [==============================] - 0s 1ms/step - loss: 0.4767 - accuracy: 0.7845 - val_loss: 0.4043 - val_accuracy: 0.8319\n",
      "Epoch 23/250\n",
      "100/100 [==============================] - 0s 1ms/step - loss: 0.4783 - accuracy: 0.7775 - val_loss: 0.4201 - val_accuracy: 0.8144\n",
      "Epoch 24/250\n",
      "100/100 [==============================] - 0s 1ms/step - loss: 0.4771 - accuracy: 0.7812 - val_loss: 0.4694 - val_accuracy: 0.7794\n",
      "Epoch 25/250\n",
      "100/100 [==============================] - 0s 1ms/step - loss: 0.4719 - accuracy: 0.7836 - val_loss: 0.5254 - val_accuracy: 0.7475\n",
      "Epoch 26/250\n",
      "100/100 [==============================] - 0s 1ms/step - loss: 0.4729 - accuracy: 0.7820 - val_loss: 0.4044 - val_accuracy: 0.8294\n",
      "Epoch 27/250\n",
      "100/100 [==============================] - 0s 1ms/step - loss: 0.4751 - accuracy: 0.7867 - val_loss: 0.5160 - val_accuracy: 0.7494\n",
      "Epoch 28/250\n",
      "100/100 [==============================] - 0s 1ms/step - loss: 0.4721 - accuracy: 0.7792 - val_loss: 0.4983 - val_accuracy: 0.7519\n",
      "Epoch 29/250\n",
      "100/100 [==============================] - 0s 1ms/step - loss: 0.4696 - accuracy: 0.7898 - val_loss: 0.4561 - val_accuracy: 0.7937\n",
      "Epoch 30/250\n",
      "100/100 [==============================] - 0s 1ms/step - loss: 0.4654 - accuracy: 0.7903 - val_loss: 0.4316 - val_accuracy: 0.8112\n",
      "Epoch 31/250\n",
      "100/100 [==============================] - 0s 1ms/step - loss: 0.4670 - accuracy: 0.7906 - val_loss: 0.4400 - val_accuracy: 0.7994\n",
      "Epoch 32/250\n",
      "100/100 [==============================] - 0s 1ms/step - loss: 0.4672 - accuracy: 0.7898 - val_loss: 0.4504 - val_accuracy: 0.8006\n",
      "Epoch 33/250\n",
      "100/100 [==============================] - 0s 1ms/step - loss: 0.4657 - accuracy: 0.7834 - val_loss: 0.4511 - val_accuracy: 0.7881\n",
      "Epoch 34/250\n",
      "100/100 [==============================] - 0s 1ms/step - loss: 0.4640 - accuracy: 0.7859 - val_loss: 0.4663 - val_accuracy: 0.7881\n",
      "Epoch 35/250\n",
      "100/100 [==============================] - 0s 2ms/step - loss: 0.4639 - accuracy: 0.7881 - val_loss: 0.4783 - val_accuracy: 0.7756\n",
      "Epoch 36/250\n",
      "100/100 [==============================] - 0s 1ms/step - loss: 0.4615 - accuracy: 0.7887 - val_loss: 0.4291 - val_accuracy: 0.8150\n",
      "Epoch 37/250\n",
      "100/100 [==============================] - 0s 1ms/step - loss: 0.4611 - accuracy: 0.7900 - val_loss: 0.4710 - val_accuracy: 0.7812\n",
      "Epoch 37: early stopping\n"
     ]
    }
   ],
   "source": [
    "\"\"\" class_weight: Optional dictionary mapping class indices (integers)\n",
    "        to a weight (float) value, used for weighting the loss function\n",
    "        (during training only).\n",
    "        This can be useful to tell the model to\n",
    "        \"pay more attention\" to samples from\n",
    "        an under-represented class.\"\"\"\n",
    "\n",
    "\n",
    "# define sequential model\n",
    "\n",
    "model_weighted = Sequential()\n",
    "model_weighted.add(Dense(15, input_shape=(10,), activation='relu'))\n",
    "model_weighted.add(Dense(10, activation='relu'))\n",
    "model_weighted.add(Dense(5,  activation = 'relu'))\n",
    "model_weighted.add(Dense(1, activation='sigmoid')) # we use sigmoid for binary output\n",
    "model_weighted.summary()\n",
    "\n",
    "\n",
    "# compile the model\n",
    "\n",
    "opt = Adam(lr = 0.005)\n",
    "model_weighted.compile(optimizer = opt, loss = 'binary_crossentropy',metrics = ['accuracy'])\n",
    "\n",
    "early_stop = EarlyStopping(monitor = \"val_loss\", mode = \"auto\", verbose = 1, patience = 15)\n",
    "\n",
    "# now we fit our model to training data\n",
    "\n",
    "class_weight = {0: 0.62794349, 1:2.45398773}\n",
    "\n",
    "history = model_weighted.fit(X_train, y_train, epochs=250, \n",
    "                    validation_split = 0.2,\n",
    "                    batch_size=64,  \n",
    "                    callbacks = [early_stop],\n",
    "                    class_weight=class_weight)\n",
    "                    "
   ]
  },
  {
   "cell_type": "markdown",
   "metadata": {},
   "source": [
    "#### Evaluate"
   ]
  },
  {
   "cell_type": "code",
   "execution_count": 121,
   "metadata": {},
   "outputs": [
    {
     "data": {
      "text/plain": [
       "<AxesSubplot:>"
      ]
     },
     "execution_count": 121,
     "metadata": {},
     "output_type": "execute_result"
    },
    {
     "data": {
      "image/png": "[encoded data removed]",
      "text/plain": [
       "<Figure size 720x432 with 1 Axes>"
      ]
     },
     "metadata": {},
     "output_type": "display_data"
    }
   ],
   "source": [
    "loss_df = pd.DataFrame(history.history)\n",
    "loss_df.plot()"
   ]
  },
  {
   "cell_type": "code",
   "execution_count": 122,
   "metadata": {},
   "outputs": [
    {
     "name": "stdout",
     "output_type": "stream",
     "text": [
      "63/63 [==============================] - 0s 1ms/step - loss: 0.3764 - accuracy: 0.8400\n"
     ]
    },
    {
     "data": {
      "text/plain": [
       "[0.3763584792613983, 0.8399999737739563]"
      ]
     },
     "execution_count": 122,
     "metadata": {},
     "output_type": "execute_result"
    }
   ],
   "source": [
    "model.evaluate(X_test,y_test)"
   ]
  },
  {
   "cell_type": "code",
   "execution_count": 123,
   "metadata": {},
   "outputs": [
    {
     "name": "stdout",
     "output_type": "stream",
     "text": [
      "loss :  0.3763584792613983\n",
      "accuracy :  0.8399999737739563\n"
     ]
    }
   ],
   "source": [
    "loss, accuracy = model.evaluate(X_test, y_test, verbose=0)\n",
    "print(\"loss : \", loss)\n",
    "print(\"accuracy : \", accuracy)"
   ]
  },
  {
   "cell_type": "code",
   "execution_count": 124,
   "metadata": {},
   "outputs": [
    {
     "name": "stdout",
     "output_type": "stream",
     "text": [
      "              precision    recall  f1-score   support\n",
      "\n",
      "           0       0.90      0.90      0.90      1593\n",
      "           1       0.61      0.61      0.61       407\n",
      "\n",
      "    accuracy                           0.84      2000\n",
      "   macro avg       0.75      0.75      0.75      2000\n",
      "weighted avg       0.84      0.84      0.84      2000\n",
      "\n"
     ]
    }
   ],
   "source": [
    "#print classification_report\n",
    "\n",
    "y_pred = (model.predict(X_test) > 0.5).astype(\"int32\")\n",
    "print(classification_report(y_test, y_pred))"
   ]
  },
  {
   "cell_type": "markdown",
   "metadata": {},
   "source": [
    "## GridSearchCV"
   ]
  },
  {
   "cell_type": "code",
   "execution_count": 50,
   "metadata": {},
   "outputs": [],
   "source": [
    "from tensorflow.keras.optimizers import Adam, Adadelta, RMSprop, Nadam\n",
    "from tensorflow.keras.wrappers.scikit_learn import KerasClassifier"
   ]
  },
  {
   "cell_type": "code",
   "execution_count": 51,
   "metadata": {},
   "outputs": [],
   "source": [
    "def build_classifier(optimizer, learn_rate):\n",
    "    classifier = Sequential()\n",
    "    classifier.add(Dense(units = 30, activation = 'relu'))\n",
    "    classifier.add(Dense(units = 15, activation = 'relu'))\n",
    "    classifier.add(Dense(units = 1, activation = 'sigmoid'))\n",
    "    classifier.compile(optimizer = optimizer(learn_rate), loss = 'binary_crossentropy', metrics = ['accuracy'])\n",
    "    return classifier"
   ]
  },
  {
   "cell_type": "code",
   "execution_count": 52,
   "metadata": {},
   "outputs": [],
   "source": [
    "early_stop = EarlyStopping(monitor = \"val_accuracy\", mode = \"auto\", verbose = 1, patience = 15)"
   ]
  },
  {
   "cell_type": "code",
   "execution_count": 53,
   "metadata": {},
   "outputs": [
    {
     "name": "stdout",
     "output_type": "stream",
     "text": [
      "Fitting 10 folds for each of 24 candidates, totalling 240 fits\n",
      "Epoch 1/200\n",
      "113/113 [==============================] - 1s 3ms/step - loss: 0.4847 - accuracy: 0.7951 - val_loss: 0.4446 - val_accuracy: 0.8112\n",
      "Epoch 2/200\n",
      "113/113 [==============================] - 0s 3ms/step - loss: 0.4430 - accuracy: 0.8064 - val_loss: 0.4045 - val_accuracy: 0.8275\n",
      "Epoch 3/200\n",
      "113/113 [==============================] - 0s 3ms/step - loss: 0.4079 - accuracy: 0.8254 - val_loss: 0.3604 - val_accuracy: 0.8500\n",
      "Epoch 4/200\n",
      "113/113 [==============================] - 0s 3ms/step - loss: 0.3799 - accuracy: 0.8467 - val_loss: 0.3452 - val_accuracy: 0.8612\n",
      "Epoch 5/200\n",
      "113/113 [==============================] - 0s 3ms/step - loss: 0.3675 - accuracy: 0.8503 - val_loss: 0.3424 - val_accuracy: 0.8637\n",
      "Epoch 6/200\n",
      "113/113 [==============================] - 0s 3ms/step - loss: 0.3651 - accuracy: 0.8499 - val_loss: 0.3243 - val_accuracy: 0.8650\n",
      "Epoch 7/200\n",
      "113/113 [==============================] - 0s 3ms/step - loss: 0.3583 - accuracy: 0.8556 - val_loss: 0.3231 - val_accuracy: 0.8637\n",
      "Epoch 8/200\n",
      "113/113 [==============================] - 0s 2ms/step - loss: 0.3587 - accuracy: 0.8535 - val_loss: 0.3252 - val_accuracy: 0.8662\n",
      "Epoch 9/200\n",
      "113/113 [==============================] - 0s 3ms/step - loss: 0.3549 - accuracy: 0.8549 - val_loss: 0.3237 - val_accuracy: 0.8625\n",
      "Epoch 10/200\n",
      "113/113 [==============================] - 0s 3ms/step - loss: 0.3523 - accuracy: 0.8565 - val_loss: 0.3229 - val_accuracy: 0.8675\n",
      "Epoch 11/200\n",
      "113/113 [==============================] - 0s 4ms/step - loss: 0.3528 - accuracy: 0.8572 - val_loss: 0.3290 - val_accuracy: 0.8712\n",
      "Epoch 12/200\n",
      "113/113 [==============================] - 0s 3ms/step - loss: 0.3512 - accuracy: 0.8542 - val_loss: 0.3264 - val_accuracy: 0.8612\n",
      "Epoch 13/200\n",
      "113/113 [==============================] - 0s 3ms/step - loss: 0.3509 - accuracy: 0.8569 - val_loss: 0.3225 - val_accuracy: 0.8637\n",
      "Epoch 14/200\n",
      "113/113 [==============================] - 0s 3ms/step - loss: 0.3458 - accuracy: 0.8576 - val_loss: 0.3181 - val_accuracy: 0.8637\n",
      "Epoch 15/200\n",
      "113/113 [==============================] - 0s 3ms/step - loss: 0.3446 - accuracy: 0.8597 - val_loss: 0.3161 - val_accuracy: 0.8675\n",
      "Epoch 16/200\n",
      "113/113 [==============================] - 0s 2ms/step - loss: 0.3432 - accuracy: 0.8576 - val_loss: 0.3141 - val_accuracy: 0.8687\n",
      "Epoch 17/200\n",
      "113/113 [==============================] - 0s 3ms/step - loss: 0.3416 - accuracy: 0.8597 - val_loss: 0.3141 - val_accuracy: 0.8675\n",
      "Epoch 18/200\n",
      "113/113 [==============================] - 0s 2ms/step - loss: 0.3400 - accuracy: 0.8582 - val_loss: 0.3117 - val_accuracy: 0.8625\n",
      "Epoch 19/200\n",
      "113/113 [==============================] - 0s 2ms/step - loss: 0.3403 - accuracy: 0.8593 - val_loss: 0.3141 - val_accuracy: 0.8687\n",
      "Epoch 20/200\n",
      "113/113 [==============================] - 0s 4ms/step - loss: 0.3425 - accuracy: 0.8569 - val_loss: 0.3213 - val_accuracy: 0.8650\n",
      "Epoch 21/200\n",
      "113/113 [==============================] - 0s 4ms/step - loss: 0.3374 - accuracy: 0.8587 - val_loss: 0.3119 - val_accuracy: 0.8725\n",
      "Epoch 22/200\n",
      "113/113 [==============================] - 0s 3ms/step - loss: 0.3364 - accuracy: 0.8619 - val_loss: 0.3205 - val_accuracy: 0.8650\n",
      "Epoch 23/200\n",
      "113/113 [==============================] - 0s 3ms/step - loss: 0.3375 - accuracy: 0.8615 - val_loss: 0.3157 - val_accuracy: 0.8675\n",
      "Epoch 24/200\n",
      "113/113 [==============================] - 0s 4ms/step - loss: 0.3349 - accuracy: 0.8603 - val_loss: 0.3238 - val_accuracy: 0.8662\n",
      "Epoch 25/200\n",
      "113/113 [==============================] - 0s 3ms/step - loss: 0.3372 - accuracy: 0.8619 - val_loss: 0.3099 - val_accuracy: 0.8700\n",
      "Epoch 26/200\n",
      "113/113 [==============================] - 0s 3ms/step - loss: 0.3349 - accuracy: 0.8597 - val_loss: 0.3108 - val_accuracy: 0.8737\n",
      "Epoch 27/200\n",
      "113/113 [==============================] - 0s 3ms/step - loss: 0.3328 - accuracy: 0.8617 - val_loss: 0.3141 - val_accuracy: 0.8725\n",
      "Epoch 28/200\n",
      "113/113 [==============================] - 0s 3ms/step - loss: 0.3348 - accuracy: 0.8618 - val_loss: 0.3137 - val_accuracy: 0.8687\n",
      "Epoch 29/200\n",
      "113/113 [==============================] - 0s 3ms/step - loss: 0.3310 - accuracy: 0.8629 - val_loss: 0.3112 - val_accuracy: 0.8750\n",
      "Epoch 30/200\n",
      "113/113 [==============================] - 0s 3ms/step - loss: 0.3324 - accuracy: 0.8615 - val_loss: 0.3206 - val_accuracy: 0.8637\n",
      "Epoch 31/200\n",
      "113/113 [==============================] - 0s 3ms/step - loss: 0.3316 - accuracy: 0.8622 - val_loss: 0.3163 - val_accuracy: 0.8737\n",
      "Epoch 32/200\n",
      "113/113 [==============================] - 0s 3ms/step - loss: 0.3313 - accuracy: 0.8624 - val_loss: 0.3147 - val_accuracy: 0.8763\n",
      "Epoch 33/200\n",
      "113/113 [==============================] - 0s 4ms/step - loss: 0.3308 - accuracy: 0.8614 - val_loss: 0.3181 - val_accuracy: 0.8725\n",
      "Epoch 34/200\n",
      "113/113 [==============================] - 0s 3ms/step - loss: 0.3311 - accuracy: 0.8637 - val_loss: 0.3131 - val_accuracy: 0.8662\n",
      "Epoch 35/200\n",
      "113/113 [==============================] - 0s 3ms/step - loss: 0.3286 - accuracy: 0.8657 - val_loss: 0.3118 - val_accuracy: 0.8687\n",
      "Epoch 36/200\n",
      "113/113 [==============================] - 0s 2ms/step - loss: 0.3284 - accuracy: 0.8632 - val_loss: 0.3143 - val_accuracy: 0.8712\n",
      "Epoch 37/200\n",
      "113/113 [==============================] - 0s 3ms/step - loss: 0.3281 - accuracy: 0.8617 - val_loss: 0.3177 - val_accuracy: 0.8712\n",
      "Epoch 38/200\n",
      "113/113 [==============================] - 0s 2ms/step - loss: 0.3253 - accuracy: 0.8629 - val_loss: 0.3175 - val_accuracy: 0.8737\n",
      "Epoch 39/200\n",
      "113/113 [==============================] - 0s 2ms/step - loss: 0.3277 - accuracy: 0.8622 - val_loss: 0.3150 - val_accuracy: 0.8700\n",
      "Epoch 40/200\n",
      "113/113 [==============================] - 0s 2ms/step - loss: 0.3309 - accuracy: 0.8621 - val_loss: 0.3174 - val_accuracy: 0.8700\n",
      "Epoch 41/200\n",
      "113/113 [==============================] - 0s 2ms/step - loss: 0.3242 - accuracy: 0.8665 - val_loss: 0.3079 - val_accuracy: 0.8712\n",
      "Epoch 42/200\n",
      "113/113 [==============================] - 0s 2ms/step - loss: 0.3262 - accuracy: 0.8651 - val_loss: 0.3178 - val_accuracy: 0.8737\n",
      "Epoch 43/200\n",
      "113/113 [==============================] - 0s 3ms/step - loss: 0.3267 - accuracy: 0.8650 - val_loss: 0.3126 - val_accuracy: 0.8737\n",
      "Epoch 44/200\n",
      "113/113 [==============================] - 0s 2ms/step - loss: 0.3238 - accuracy: 0.8661 - val_loss: 0.3180 - val_accuracy: 0.8687\n",
      "Epoch 45/200\n",
      "113/113 [==============================] - 0s 2ms/step - loss: 0.3240 - accuracy: 0.8649 - val_loss: 0.3149 - val_accuracy: 0.8712\n",
      "Epoch 46/200\n",
      "113/113 [==============================] - 0s 2ms/step - loss: 0.3228 - accuracy: 0.8647 - val_loss: 0.3147 - val_accuracy: 0.8725\n",
      "Epoch 47/200\n",
      "113/113 [==============================] - 0s 2ms/step - loss: 0.3205 - accuracy: 0.8686 - val_loss: 0.3177 - val_accuracy: 0.8737\n",
      "Epoch 47: early stopping\n"
     ]
    },
    {
     "data": {
      "text/plain": [
       "GridSearchCV(cv=10,\n",
       "             estimator=<keras.wrappers.scikit_learn.KerasClassifier object at 0x7fc34ecaef40>,\n",
       "             n_jobs=-1,\n",
       "             param_grid={'batch_size': [32, 64],\n",
       "                         'learn_rate': [0.001, 0.003, 0.005],\n",
       "                         'optimizer': [<class 'keras.optimizer_v2.adam.Adam'>,\n",
       "                                       <class 'keras.optimizer_v2.rmsprop.RMSprop'>,\n",
       "                                       <class 'keras.optimizer_v2.adadelta.Adadelta'>,\n",
       "                                       <class 'keras.optimizer_v2.nadam.Nadam'>]},\n",
       "             scoring='accuracy', verbose=1)"
      ]
     },
     "execution_count": 53,
     "metadata": {},
     "output_type": "execute_result"
    }
   ],
   "source": [
    "tf.random.set_seed(seed)\n",
    "\n",
    "classifier_model = KerasClassifier(build_fn = build_classifier, validation_split = 0.1, epochs = 200)\n",
    "\n",
    "parameters = {'batch_size': [32, 64],\n",
    "              'optimizer': [Adam, RMSprop, Adadelta, Nadam],\n",
    "              'learn_rate': [0.001, 0.003, 0.005]}\n",
    "\n",
    "grid_model = GridSearchCV(estimator = classifier_model,\n",
    "                          param_grid = parameters,\n",
    "                          scoring = 'accuracy',\n",
    "                          cv = 10,\n",
    "                          n_jobs = -1,\n",
    "                          verbose = 1)\n",
    "\n",
    "grid_model.fit(X_train, y_train, callbacks = [early_stop])"
   ]
  },
  {
   "cell_type": "markdown",
   "metadata": {},
   "source": [
    "#### Evaluate"
   ]
  },
  {
   "cell_type": "code",
   "execution_count": 54,
   "metadata": {},
   "outputs": [
    {
     "data": {
      "text/plain": [
       "0.858375"
      ]
     },
     "execution_count": 54,
     "metadata": {},
     "output_type": "execute_result"
    }
   ],
   "source": [
    "grid_model.best_score_"
   ]
  },
  {
   "cell_type": "code",
   "execution_count": 55,
   "metadata": {},
   "outputs": [
    {
     "data": {
      "text/plain": [
       "{'batch_size': 64,\n",
       " 'learn_rate': 0.005,\n",
       " 'optimizer': keras.optimizer_v2.adam.Adam}"
      ]
     },
     "execution_count": 55,
     "metadata": {},
     "output_type": "execute_result"
    }
   ],
   "source": [
    "grid_model.best_params_"
   ]
  },
  {
   "cell_type": "code",
   "execution_count": 56,
   "metadata": {},
   "outputs": [
    {
     "data": {
      "text/html": [
       "<div>\n",
       "<style scoped>\n",
       "    .dataframe tbody tr th:only-of-type {\n",
       "        vertical-align: middle;\n",
       "    }\n",
       "\n",
       "    .dataframe tbody tr th {\n",
       "        vertical-align: top;\n",
       "    }\n",
       "\n",
       "    .dataframe thead th {\n",
       "        text-align: right;\n",
       "    }\n",
       "</style>\n",
       "<table border=\"1\" class=\"dataframe\">\n",
       "  <thead>\n",
       "    <tr style=\"text-align: right;\">\n",
       "      <th></th>\n",
       "      <th>mean_test_score</th>\n",
       "      <th>std_test_score</th>\n",
       "      <th>rank_test_score</th>\n",
       "      <th>params</th>\n",
       "    </tr>\n",
       "  </thead>\n",
       "  <tbody>\n",
       "    <tr>\n",
       "      <th>20</th>\n",
       "      <td>0.858</td>\n",
       "      <td>0.015</td>\n",
       "      <td>1</td>\n",
       "      <td>{'batch_size': 64, 'learn_rate': 0.005, 'optim...</td>\n",
       "    </tr>\n",
       "    <tr>\n",
       "      <th>11</th>\n",
       "      <td>0.857</td>\n",
       "      <td>0.014</td>\n",
       "      <td>2</td>\n",
       "      <td>{'batch_size': 32, 'learn_rate': 0.005, 'optim...</td>\n",
       "    </tr>\n",
       "    <tr>\n",
       "      <th>17</th>\n",
       "      <td>0.857</td>\n",
       "      <td>0.022</td>\n",
       "      <td>3</td>\n",
       "      <td>{'batch_size': 64, 'learn_rate': 0.003, 'optim...</td>\n",
       "    </tr>\n",
       "    <tr>\n",
       "      <th>8</th>\n",
       "      <td>0.856</td>\n",
       "      <td>0.012</td>\n",
       "      <td>4</td>\n",
       "      <td>{'batch_size': 32, 'learn_rate': 0.005, 'optim...</td>\n",
       "    </tr>\n",
       "    <tr>\n",
       "      <th>5</th>\n",
       "      <td>0.856</td>\n",
       "      <td>0.013</td>\n",
       "      <td>4</td>\n",
       "      <td>{'batch_size': 32, 'learn_rate': 0.003, 'optim...</td>\n",
       "    </tr>\n",
       "    <tr>\n",
       "      <th>7</th>\n",
       "      <td>0.856</td>\n",
       "      <td>0.015</td>\n",
       "      <td>6</td>\n",
       "      <td>{'batch_size': 32, 'learn_rate': 0.003, 'optim...</td>\n",
       "    </tr>\n",
       "    <tr>\n",
       "      <th>3</th>\n",
       "      <td>0.856</td>\n",
       "      <td>0.012</td>\n",
       "      <td>7</td>\n",
       "      <td>{'batch_size': 32, 'learn_rate': 0.001, 'optim...</td>\n",
       "    </tr>\n",
       "    <tr>\n",
       "      <th>0</th>\n",
       "      <td>0.856</td>\n",
       "      <td>0.013</td>\n",
       "      <td>8</td>\n",
       "      <td>{'batch_size': 32, 'learn_rate': 0.001, 'optim...</td>\n",
       "    </tr>\n",
       "    <tr>\n",
       "      <th>19</th>\n",
       "      <td>0.855</td>\n",
       "      <td>0.014</td>\n",
       "      <td>9</td>\n",
       "      <td>{'batch_size': 64, 'learn_rate': 0.003, 'optim...</td>\n",
       "    </tr>\n",
       "    <tr>\n",
       "      <th>12</th>\n",
       "      <td>0.854</td>\n",
       "      <td>0.014</td>\n",
       "      <td>10</td>\n",
       "      <td>{'batch_size': 64, 'learn_rate': 0.001, 'optim...</td>\n",
       "    </tr>\n",
       "    <tr>\n",
       "      <th>23</th>\n",
       "      <td>0.854</td>\n",
       "      <td>0.015</td>\n",
       "      <td>10</td>\n",
       "      <td>{'batch_size': 64, 'learn_rate': 0.005, 'optim...</td>\n",
       "    </tr>\n",
       "    <tr>\n",
       "      <th>1</th>\n",
       "      <td>0.854</td>\n",
       "      <td>0.016</td>\n",
       "      <td>12</td>\n",
       "      <td>{'batch_size': 32, 'learn_rate': 0.001, 'optim...</td>\n",
       "    </tr>\n",
       "    <tr>\n",
       "      <th>9</th>\n",
       "      <td>0.853</td>\n",
       "      <td>0.018</td>\n",
       "      <td>13</td>\n",
       "      <td>{'batch_size': 32, 'learn_rate': 0.005, 'optim...</td>\n",
       "    </tr>\n",
       "    <tr>\n",
       "      <th>21</th>\n",
       "      <td>0.853</td>\n",
       "      <td>0.016</td>\n",
       "      <td>14</td>\n",
       "      <td>{'batch_size': 64, 'learn_rate': 0.005, 'optim...</td>\n",
       "    </tr>\n",
       "    <tr>\n",
       "      <th>15</th>\n",
       "      <td>0.853</td>\n",
       "      <td>0.012</td>\n",
       "      <td>15</td>\n",
       "      <td>{'batch_size': 64, 'learn_rate': 0.001, 'optim...</td>\n",
       "    </tr>\n",
       "    <tr>\n",
       "      <th>13</th>\n",
       "      <td>0.853</td>\n",
       "      <td>0.016</td>\n",
       "      <td>16</td>\n",
       "      <td>{'batch_size': 64, 'learn_rate': 0.001, 'optim...</td>\n",
       "    </tr>\n",
       "    <tr>\n",
       "      <th>16</th>\n",
       "      <td>0.853</td>\n",
       "      <td>0.014</td>\n",
       "      <td>17</td>\n",
       "      <td>{'batch_size': 64, 'learn_rate': 0.003, 'optim...</td>\n",
       "    </tr>\n",
       "    <tr>\n",
       "      <th>4</th>\n",
       "      <td>0.852</td>\n",
       "      <td>0.015</td>\n",
       "      <td>18</td>\n",
       "      <td>{'batch_size': 32, 'learn_rate': 0.003, 'optim...</td>\n",
       "    </tr>\n",
       "    <tr>\n",
       "      <th>10</th>\n",
       "      <td>0.796</td>\n",
       "      <td>0.021</td>\n",
       "      <td>19</td>\n",
       "      <td>{'batch_size': 32, 'learn_rate': 0.005, 'optim...</td>\n",
       "    </tr>\n",
       "    <tr>\n",
       "      <th>22</th>\n",
       "      <td>0.796</td>\n",
       "      <td>0.021</td>\n",
       "      <td>19</td>\n",
       "      <td>{'batch_size': 64, 'learn_rate': 0.005, 'optim...</td>\n",
       "    </tr>\n",
       "    <tr>\n",
       "      <th>6</th>\n",
       "      <td>0.796</td>\n",
       "      <td>0.021</td>\n",
       "      <td>19</td>\n",
       "      <td>{'batch_size': 32, 'learn_rate': 0.003, 'optim...</td>\n",
       "    </tr>\n",
       "    <tr>\n",
       "      <th>18</th>\n",
       "      <td>0.739</td>\n",
       "      <td>0.176</td>\n",
       "      <td>22</td>\n",
       "      <td>{'batch_size': 64, 'learn_rate': 0.003, 'optim...</td>\n",
       "    </tr>\n",
       "    <tr>\n",
       "      <th>2</th>\n",
       "      <td>0.738</td>\n",
       "      <td>0.177</td>\n",
       "      <td>23</td>\n",
       "      <td>{'batch_size': 32, 'learn_rate': 0.001, 'optim...</td>\n",
       "    </tr>\n",
       "    <tr>\n",
       "      <th>14</th>\n",
       "      <td>0.737</td>\n",
       "      <td>0.177</td>\n",
       "      <td>24</td>\n",
       "      <td>{'batch_size': 64, 'learn_rate': 0.001, 'optim...</td>\n",
       "    </tr>\n",
       "  </tbody>\n",
       "</table>\n",
       "</div>"
      ],
      "text/plain": [
       "    mean_test_score  std_test_score  rank_test_score  \\\n",
       "20            0.858           0.015                1   \n",
       "11            0.857           0.014                2   \n",
       "17            0.857           0.022                3   \n",
       "8             0.856           0.012                4   \n",
       "5             0.856           0.013                4   \n",
       "7             0.856           0.015                6   \n",
       "3             0.856           0.012                7   \n",
       "0             0.856           0.013                8   \n",
       "19            0.855           0.014                9   \n",
       "12            0.854           0.014               10   \n",
       "23            0.854           0.015               10   \n",
       "1             0.854           0.016               12   \n",
       "9             0.853           0.018               13   \n",
       "21            0.853           0.016               14   \n",
       "15            0.853           0.012               15   \n",
       "13            0.853           0.016               16   \n",
       "16            0.853           0.014               17   \n",
       "4             0.852           0.015               18   \n",
       "10            0.796           0.021               19   \n",
       "22            0.796           0.021               19   \n",
       "6             0.796           0.021               19   \n",
       "18            0.739           0.176               22   \n",
       "2             0.738           0.177               23   \n",
       "14            0.737           0.177               24   \n",
       "\n",
       "                                               params  \n",
       "20  {'batch_size': 64, 'learn_rate': 0.005, 'optim...  \n",
       "11  {'batch_size': 32, 'learn_rate': 0.005, 'optim...  \n",
       "17  {'batch_size': 64, 'learn_rate': 0.003, 'optim...  \n",
       "8   {'batch_size': 32, 'learn_rate': 0.005, 'optim...  \n",
       "5   {'batch_size': 32, 'learn_rate': 0.003, 'optim...  \n",
       "7   {'batch_size': 32, 'learn_rate': 0.003, 'optim...  \n",
       "3   {'batch_size': 32, 'learn_rate': 0.001, 'optim...  \n",
       "0   {'batch_size': 32, 'learn_rate': 0.001, 'optim...  \n",
       "19  {'batch_size': 64, 'learn_rate': 0.003, 'optim...  \n",
       "12  {'batch_size': 64, 'learn_rate': 0.001, 'optim...  \n",
       "23  {'batch_size': 64, 'learn_rate': 0.005, 'optim...  \n",
       "1   {'batch_size': 32, 'learn_rate': 0.001, 'optim...  \n",
       "9   {'batch_size': 32, 'learn_rate': 0.005, 'optim...  \n",
       "21  {'batch_size': 64, 'learn_rate': 0.005, 'optim...  \n",
       "15  {'batch_size': 64, 'learn_rate': 0.001, 'optim...  \n",
       "13  {'batch_size': 64, 'learn_rate': 0.001, 'optim...  \n",
       "16  {'batch_size': 64, 'learn_rate': 0.003, 'optim...  \n",
       "4   {'batch_size': 32, 'learn_rate': 0.003, 'optim...  \n",
       "10  {'batch_size': 32, 'learn_rate': 0.005, 'optim...  \n",
       "22  {'batch_size': 64, 'learn_rate': 0.005, 'optim...  \n",
       "6   {'batch_size': 32, 'learn_rate': 0.003, 'optim...  \n",
       "18  {'batch_size': 64, 'learn_rate': 0.003, 'optim...  \n",
       "2   {'batch_size': 32, 'learn_rate': 0.001, 'optim...  \n",
       "14  {'batch_size': 64, 'learn_rate': 0.001, 'optim...  "
      ]
     },
     "execution_count": 56,
     "metadata": {},
     "output_type": "execute_result"
    }
   ],
   "source": [
    "grid_result = pd.DataFrame(grid_model.cv_results_)[[\"mean_test_score\", \"std_test_score\", \"rank_test_score\", \"params\"]].sort_values(\"rank_test_score\")\n",
    "grid_result"
   ]
  },
  {
   "cell_type": "code",
   "execution_count": 57,
   "metadata": {},
   "outputs": [
    {
     "data": {
      "image/png": "[encoded data removed]",
      "text/plain": [
       "<Figure size 720x432 with 1 Axes>"
      ]
     },
     "metadata": {},
     "output_type": "display_data"
    }
   ],
   "source": [
    "y_pred_proba = model.predict(X_test)\n",
    "fpr, tpr, thresholds = roc_curve(y_test, y_pred_proba)\n",
    "plt.plot([0,1],[0,1],'k--')\n",
    "plt.plot(fpr,tpr, label='ANN')\n",
    "plt.xlabel('fpr')\n",
    "plt.ylabel('tpr')\n",
    "plt.title('ROC curve')\n",
    "plt.show()"
   ]
  },
  {
   "cell_type": "markdown",
   "metadata": {},
   "source": [
    "## Final Model and Model Deployment"
   ]
  },
  {
   "cell_type": "code",
   "execution_count": 58,
   "metadata": {},
   "outputs": [],
   "source": [
    "import pickle\n",
    "pickle.dump(scaler, open(\"scaler_churn\", 'wb'))"
   ]
  },
  {
   "cell_type": "code",
   "execution_count": 59,
   "metadata": {},
   "outputs": [],
   "source": [
    "tf.random.set_seed(seed)\n",
    "\n",
    "model = Sequential()\n",
    "\n",
    "model.add(Dense(30, activation = \"relu\", input_dim = X_train.shape[1]))\n",
    "model.add(Dense(15, activation = \"relu\"))\n",
    "model.add(Dense(1, activation = \"sigmoid\"))\n",
    "\n",
    "model.compile(optimizer = \"adam\", loss = \"binary_crossentropy\", metrics = [\"accuracy\"])\n",
    "#optimizer will be changed."
   ]
  },
  {
   "cell_type": "code",
   "execution_count": 60,
   "metadata": {},
   "outputs": [],
   "source": [
    "early_stop = EarlyStopping(monitor = \"val_loss\", mode = \"auto\", verbose = 1, patience = 15)"
   ]
  },
  {
   "cell_type": "code",
   "execution_count": 61,
   "metadata": {},
   "outputs": [
    {
     "name": "stdout",
     "output_type": "stream",
     "text": [
      "Epoch 1/1000\n",
      "125/125 [==============================] - 1s 7ms/step - loss: 0.4964 - accuracy: 0.7962 - val_loss: 0.4705 - val_accuracy: 0.7965\n",
      "Epoch 2/1000\n",
      "125/125 [==============================] - 0s 2ms/step - loss: 0.4697 - accuracy: 0.7983 - val_loss: 0.4556 - val_accuracy: 0.8000\n",
      "Epoch 3/1000\n",
      "125/125 [==============================] - 0s 2ms/step - loss: 0.4550 - accuracy: 0.8040 - val_loss: 0.4452 - val_accuracy: 0.8100\n",
      "Epoch 4/1000\n",
      "125/125 [==============================] - 1s 4ms/step - loss: 0.4442 - accuracy: 0.8095 - val_loss: 0.4380 - val_accuracy: 0.8080\n",
      "Epoch 5/1000\n",
      "125/125 [==============================] - 0s 2ms/step - loss: 0.4380 - accuracy: 0.8089 - val_loss: 0.4288 - val_accuracy: 0.8085\n",
      "Epoch 6/1000\n",
      "125/125 [==============================] - 0s 2ms/step - loss: 0.4320 - accuracy: 0.8131 - val_loss: 0.4233 - val_accuracy: 0.8155\n",
      "Epoch 7/1000\n",
      "125/125 [==============================] - 0s 3ms/step - loss: 0.4231 - accuracy: 0.8170 - val_loss: 0.4090 - val_accuracy: 0.8220\n",
      "Epoch 8/1000\n",
      "125/125 [==============================] - 0s 2ms/step - loss: 0.4078 - accuracy: 0.8245 - val_loss: 0.3959 - val_accuracy: 0.8265\n",
      "Epoch 9/1000\n",
      "125/125 [==============================] - 0s 2ms/step - loss: 0.3928 - accuracy: 0.8322 - val_loss: 0.3850 - val_accuracy: 0.8365\n",
      "Epoch 10/1000\n",
      "125/125 [==============================] - 0s 2ms/step - loss: 0.3819 - accuracy: 0.8380 - val_loss: 0.3783 - val_accuracy: 0.8375\n",
      "Epoch 11/1000\n",
      "125/125 [==============================] - 0s 3ms/step - loss: 0.3738 - accuracy: 0.8411 - val_loss: 0.3752 - val_accuracy: 0.8470\n",
      "Epoch 12/1000\n",
      "125/125 [==============================] - 0s 3ms/step - loss: 0.3686 - accuracy: 0.8443 - val_loss: 0.3685 - val_accuracy: 0.8470\n",
      "Epoch 13/1000\n",
      "125/125 [==============================] - 0s 2ms/step - loss: 0.3661 - accuracy: 0.8479 - val_loss: 0.3643 - val_accuracy: 0.8480\n",
      "Epoch 14/1000\n",
      "125/125 [==============================] - 0s 3ms/step - loss: 0.3624 - accuracy: 0.8509 - val_loss: 0.3659 - val_accuracy: 0.8500\n",
      "Epoch 15/1000\n",
      "125/125 [==============================] - 0s 2ms/step - loss: 0.3585 - accuracy: 0.8510 - val_loss: 0.3591 - val_accuracy: 0.8540\n",
      "Epoch 16/1000\n",
      "125/125 [==============================] - 0s 3ms/step - loss: 0.3569 - accuracy: 0.8505 - val_loss: 0.3601 - val_accuracy: 0.8540\n",
      "Epoch 17/1000\n",
      "125/125 [==============================] - 0s 2ms/step - loss: 0.3549 - accuracy: 0.8525 - val_loss: 0.3571 - val_accuracy: 0.8540\n",
      "Epoch 18/1000\n",
      "125/125 [==============================] - 0s 2ms/step - loss: 0.3533 - accuracy: 0.8536 - val_loss: 0.3592 - val_accuracy: 0.8585\n",
      "Epoch 19/1000\n",
      "125/125 [==============================] - 0s 2ms/step - loss: 0.3522 - accuracy: 0.8545 - val_loss: 0.3553 - val_accuracy: 0.8555\n",
      "Epoch 20/1000\n",
      "125/125 [==============================] - 0s 1ms/step - loss: 0.3520 - accuracy: 0.8540 - val_loss: 0.3557 - val_accuracy: 0.8600\n",
      "Epoch 21/1000\n",
      "125/125 [==============================] - 0s 2ms/step - loss: 0.3512 - accuracy: 0.8535 - val_loss: 0.3559 - val_accuracy: 0.8585\n",
      "Epoch 22/1000\n",
      "125/125 [==============================] - 0s 1ms/step - loss: 0.3512 - accuracy: 0.8540 - val_loss: 0.3566 - val_accuracy: 0.8555\n",
      "Epoch 23/1000\n",
      "125/125 [==============================] - 0s 1ms/step - loss: 0.3493 - accuracy: 0.8540 - val_loss: 0.3532 - val_accuracy: 0.8570\n",
      "Epoch 24/1000\n",
      "125/125 [==============================] - 0s 1ms/step - loss: 0.3494 - accuracy: 0.8550 - val_loss: 0.3542 - val_accuracy: 0.8595\n",
      "Epoch 25/1000\n",
      "125/125 [==============================] - 0s 1ms/step - loss: 0.3492 - accuracy: 0.8559 - val_loss: 0.3546 - val_accuracy: 0.8585\n",
      "Epoch 26/1000\n",
      "125/125 [==============================] - 0s 1ms/step - loss: 0.3479 - accuracy: 0.8556 - val_loss: 0.3538 - val_accuracy: 0.8565\n",
      "Epoch 27/1000\n",
      "125/125 [==============================] - 0s 1ms/step - loss: 0.3476 - accuracy: 0.8566 - val_loss: 0.3559 - val_accuracy: 0.8585\n",
      "Epoch 28/1000\n",
      "125/125 [==============================] - 0s 1ms/step - loss: 0.3473 - accuracy: 0.8562 - val_loss: 0.3546 - val_accuracy: 0.8560\n",
      "Epoch 29/1000\n",
      "125/125 [==============================] - 0s 2ms/step - loss: 0.3476 - accuracy: 0.8570 - val_loss: 0.3530 - val_accuracy: 0.8575\n",
      "Epoch 30/1000\n",
      "125/125 [==============================] - 0s 3ms/step - loss: 0.3482 - accuracy: 0.8549 - val_loss: 0.3513 - val_accuracy: 0.8585\n",
      "Epoch 31/1000\n",
      "125/125 [==============================] - 0s 2ms/step - loss: 0.3461 - accuracy: 0.8556 - val_loss: 0.3520 - val_accuracy: 0.8580\n",
      "Epoch 32/1000\n",
      "125/125 [==============================] - 0s 2ms/step - loss: 0.3449 - accuracy: 0.8579 - val_loss: 0.3529 - val_accuracy: 0.8590\n",
      "Epoch 33/1000\n",
      "125/125 [==============================] - 0s 2ms/step - loss: 0.3449 - accuracy: 0.8572 - val_loss: 0.3546 - val_accuracy: 0.8575\n",
      "Epoch 34/1000\n",
      "125/125 [==============================] - 0s 2ms/step - loss: 0.3455 - accuracy: 0.8576 - val_loss: 0.3519 - val_accuracy: 0.8565\n",
      "Epoch 35/1000\n",
      "125/125 [==============================] - 0s 2ms/step - loss: 0.3441 - accuracy: 0.8577 - val_loss: 0.3507 - val_accuracy: 0.8610\n",
      "Epoch 36/1000\n",
      "125/125 [==============================] - 0s 1ms/step - loss: 0.3436 - accuracy: 0.8579 - val_loss: 0.3504 - val_accuracy: 0.8595\n",
      "Epoch 37/1000\n",
      "125/125 [==============================] - 0s 2ms/step - loss: 0.3436 - accuracy: 0.8581 - val_loss: 0.3505 - val_accuracy: 0.8570\n",
      "Epoch 38/1000\n",
      "125/125 [==============================] - 0s 2ms/step - loss: 0.3431 - accuracy: 0.8585 - val_loss: 0.3546 - val_accuracy: 0.8595\n",
      "Epoch 39/1000\n",
      "125/125 [==============================] - 0s 2ms/step - loss: 0.3435 - accuracy: 0.8575 - val_loss: 0.3569 - val_accuracy: 0.8540\n",
      "Epoch 40/1000\n",
      "125/125 [==============================] - 0s 2ms/step - loss: 0.3433 - accuracy: 0.8584 - val_loss: 0.3548 - val_accuracy: 0.8545\n",
      "Epoch 41/1000\n",
      "125/125 [==============================] - 0s 3ms/step - loss: 0.3435 - accuracy: 0.8576 - val_loss: 0.3538 - val_accuracy: 0.8565\n",
      "Epoch 42/1000\n",
      "125/125 [==============================] - 0s 2ms/step - loss: 0.3445 - accuracy: 0.8576 - val_loss: 0.3541 - val_accuracy: 0.8595\n",
      "Epoch 43/1000\n",
      "125/125 [==============================] - 0s 2ms/step - loss: 0.3428 - accuracy: 0.8581 - val_loss: 0.3549 - val_accuracy: 0.8595\n",
      "Epoch 44/1000\n",
      "125/125 [==============================] - 0s 2ms/step - loss: 0.3407 - accuracy: 0.8581 - val_loss: 0.3485 - val_accuracy: 0.8570\n",
      "Epoch 45/1000\n",
      "125/125 [==============================] - 0s 2ms/step - loss: 0.3418 - accuracy: 0.8581 - val_loss: 0.3541 - val_accuracy: 0.8560\n",
      "Epoch 46/1000\n",
      "125/125 [==============================] - 0s 2ms/step - loss: 0.3404 - accuracy: 0.8587 - val_loss: 0.3478 - val_accuracy: 0.8620\n",
      "Epoch 47/1000\n",
      "125/125 [==============================] - 0s 2ms/step - loss: 0.3411 - accuracy: 0.8593 - val_loss: 0.3561 - val_accuracy: 0.8605\n",
      "Epoch 48/1000\n",
      "125/125 [==============================] - 0s 2ms/step - loss: 0.3416 - accuracy: 0.8586 - val_loss: 0.3494 - val_accuracy: 0.8580\n",
      "Epoch 49/1000\n",
      "125/125 [==============================] - 0s 3ms/step - loss: 0.3405 - accuracy: 0.8583 - val_loss: 0.3535 - val_accuracy: 0.8600\n",
      "Epoch 50/1000\n",
      "125/125 [==============================] - 0s 2ms/step - loss: 0.3413 - accuracy: 0.8596 - val_loss: 0.3487 - val_accuracy: 0.8595\n",
      "Epoch 51/1000\n",
      "125/125 [==============================] - 0s 2ms/step - loss: 0.3399 - accuracy: 0.8577 - val_loss: 0.3507 - val_accuracy: 0.8570\n",
      "Epoch 52/1000\n",
      "125/125 [==============================] - 0s 2ms/step - loss: 0.3395 - accuracy: 0.8583 - val_loss: 0.3488 - val_accuracy: 0.8575\n",
      "Epoch 53/1000\n",
      "125/125 [==============================] - 0s 2ms/step - loss: 0.3401 - accuracy: 0.8576 - val_loss: 0.3502 - val_accuracy: 0.8570\n",
      "Epoch 54/1000\n",
      "125/125 [==============================] - 0s 3ms/step - loss: 0.3402 - accuracy: 0.8599 - val_loss: 0.3532 - val_accuracy: 0.8560\n",
      "Epoch 55/1000\n",
      "125/125 [==============================] - 0s 2ms/step - loss: 0.3387 - accuracy: 0.8583 - val_loss: 0.3521 - val_accuracy: 0.8605\n",
      "Epoch 56/1000\n",
      "125/125 [==============================] - 0s 2ms/step - loss: 0.3398 - accuracy: 0.8594 - val_loss: 0.3503 - val_accuracy: 0.8585\n",
      "Epoch 57/1000\n",
      "125/125 [==============================] - 0s 2ms/step - loss: 0.3399 - accuracy: 0.8590 - val_loss: 0.3473 - val_accuracy: 0.8615\n",
      "Epoch 58/1000\n",
      "125/125 [==============================] - 0s 2ms/step - loss: 0.3384 - accuracy: 0.8593 - val_loss: 0.3474 - val_accuracy: 0.8600\n",
      "Epoch 59/1000\n",
      "125/125 [==============================] - 0s 2ms/step - loss: 0.3373 - accuracy: 0.8599 - val_loss: 0.3514 - val_accuracy: 0.8580\n",
      "Epoch 60/1000\n",
      "125/125 [==============================] - 0s 2ms/step - loss: 0.3385 - accuracy: 0.8611 - val_loss: 0.3527 - val_accuracy: 0.8590\n",
      "Epoch 61/1000\n",
      "125/125 [==============================] - 0s 2ms/step - loss: 0.3389 - accuracy: 0.8590 - val_loss: 0.3498 - val_accuracy: 0.8580\n",
      "Epoch 62/1000\n",
      "125/125 [==============================] - 0s 2ms/step - loss: 0.3380 - accuracy: 0.8606 - val_loss: 0.3514 - val_accuracy: 0.8575\n",
      "Epoch 63/1000\n",
      "125/125 [==============================] - 0s 2ms/step - loss: 0.3378 - accuracy: 0.8612 - val_loss: 0.3469 - val_accuracy: 0.8620\n",
      "Epoch 64/1000\n",
      "125/125 [==============================] - 0s 2ms/step - loss: 0.3371 - accuracy: 0.8590 - val_loss: 0.3471 - val_accuracy: 0.8590\n",
      "Epoch 65/1000\n",
      "125/125 [==============================] - 0s 2ms/step - loss: 0.3363 - accuracy: 0.8599 - val_loss: 0.3469 - val_accuracy: 0.8615\n",
      "Epoch 66/1000\n",
      "125/125 [==============================] - 0s 2ms/step - loss: 0.3382 - accuracy: 0.8609 - val_loss: 0.3490 - val_accuracy: 0.8605\n",
      "Epoch 67/1000\n",
      "125/125 [==============================] - 0s 1ms/step - loss: 0.3372 - accuracy: 0.8596 - val_loss: 0.3482 - val_accuracy: 0.8570\n",
      "Epoch 68/1000\n",
      "125/125 [==============================] - 0s 2ms/step - loss: 0.3373 - accuracy: 0.8587 - val_loss: 0.3477 - val_accuracy: 0.8585\n",
      "Epoch 69/1000\n",
      "125/125 [==============================] - 0s 1ms/step - loss: 0.3364 - accuracy: 0.8602 - val_loss: 0.3507 - val_accuracy: 0.8580\n",
      "Epoch 70/1000\n",
      "125/125 [==============================] - 0s 1ms/step - loss: 0.3383 - accuracy: 0.8596 - val_loss: 0.3511 - val_accuracy: 0.8590\n",
      "Epoch 71/1000\n",
      "125/125 [==============================] - 0s 1ms/step - loss: 0.3367 - accuracy: 0.8625 - val_loss: 0.3557 - val_accuracy: 0.8575\n",
      "Epoch 72/1000\n",
      "125/125 [==============================] - 0s 1ms/step - loss: 0.3356 - accuracy: 0.8624 - val_loss: 0.3462 - val_accuracy: 0.8600\n",
      "Epoch 73/1000\n",
      "125/125 [==============================] - 0s 2ms/step - loss: 0.3357 - accuracy: 0.8606 - val_loss: 0.3469 - val_accuracy: 0.8605\n",
      "Epoch 74/1000\n",
      "125/125 [==============================] - 0s 2ms/step - loss: 0.3360 - accuracy: 0.8601 - val_loss: 0.3457 - val_accuracy: 0.8595\n",
      "Epoch 75/1000\n",
      "125/125 [==============================] - 0s 2ms/step - loss: 0.3351 - accuracy: 0.8620 - val_loss: 0.3525 - val_accuracy: 0.8560\n",
      "Epoch 76/1000\n",
      "125/125 [==============================] - 0s 2ms/step - loss: 0.3356 - accuracy: 0.8605 - val_loss: 0.3460 - val_accuracy: 0.8620\n",
      "Epoch 77/1000\n",
      "125/125 [==============================] - 0s 2ms/step - loss: 0.3345 - accuracy: 0.8612 - val_loss: 0.3504 - val_accuracy: 0.8570\n",
      "Epoch 78/1000\n",
      "125/125 [==============================] - 0s 2ms/step - loss: 0.3343 - accuracy: 0.8621 - val_loss: 0.3495 - val_accuracy: 0.8600\n",
      "Epoch 79/1000\n",
      "125/125 [==============================] - 0s 2ms/step - loss: 0.3357 - accuracy: 0.8601 - val_loss: 0.3475 - val_accuracy: 0.8595\n",
      "Epoch 80/1000\n",
      "125/125 [==============================] - 0s 2ms/step - loss: 0.3339 - accuracy: 0.8620 - val_loss: 0.3482 - val_accuracy: 0.8595\n",
      "Epoch 81/1000\n",
      "125/125 [==============================] - 0s 2ms/step - loss: 0.3339 - accuracy: 0.8604 - val_loss: 0.3484 - val_accuracy: 0.8605\n",
      "Epoch 82/1000\n",
      "125/125 [==============================] - 0s 1ms/step - loss: 0.3334 - accuracy: 0.8622 - val_loss: 0.3460 - val_accuracy: 0.8610\n",
      "Epoch 83/1000\n",
      "125/125 [==============================] - 0s 1ms/step - loss: 0.3345 - accuracy: 0.8602 - val_loss: 0.3472 - val_accuracy: 0.8570\n",
      "Epoch 84/1000\n",
      "125/125 [==============================] - 0s 2ms/step - loss: 0.3335 - accuracy: 0.8616 - val_loss: 0.3511 - val_accuracy: 0.8570\n",
      "Epoch 85/1000\n",
      "125/125 [==============================] - 0s 2ms/step - loss: 0.3338 - accuracy: 0.8590 - val_loss: 0.3483 - val_accuracy: 0.8600\n",
      "Epoch 86/1000\n",
      "125/125 [==============================] - 0s 2ms/step - loss: 0.3337 - accuracy: 0.8615 - val_loss: 0.3463 - val_accuracy: 0.8600\n",
      "Epoch 87/1000\n",
      "125/125 [==============================] - 0s 2ms/step - loss: 0.3328 - accuracy: 0.8640 - val_loss: 0.3474 - val_accuracy: 0.8610\n",
      "Epoch 88/1000\n",
      "125/125 [==============================] - 0s 2ms/step - loss: 0.3343 - accuracy: 0.8618 - val_loss: 0.3503 - val_accuracy: 0.8575\n",
      "Epoch 89/1000\n",
      "125/125 [==============================] - 0s 1ms/step - loss: 0.3334 - accuracy: 0.8624 - val_loss: 0.3471 - val_accuracy: 0.8610\n",
      "Epoch 89: early stopping\n"
     ]
    },
    {
     "data": {
      "text/plain": [
       "<keras.callbacks.History at 0x7fc34fff3a30>"
      ]
     },
     "execution_count": 61,
     "metadata": {},
     "output_type": "execute_result"
    }
   ],
   "source": [
    "#validation_split and validation_data is different. \n",
    "# if you write them together, validation_data will be used.  \n",
    "model.fit(x = X_train, y = y_train, validation_data = (X_test, y_test), batch_size = 64, epochs = 1000, verbose = 1,\n",
    "          callbacks = [early_stop])"
   ]
  },
  {
   "cell_type": "code",
   "execution_count": 62,
   "metadata": {},
   "outputs": [
    {
     "data": {
      "text/plain": [
       "<AxesSubplot:>"
      ]
     },
     "execution_count": 62,
     "metadata": {},
     "output_type": "execute_result"
    },
    {
     "data": {
      "image/png": "[encoded data removed]",
      "text/plain": [
       "<Figure size 720x432 with 1 Axes>"
      ]
     },
     "metadata": {},
     "output_type": "display_data"
    }
   ],
   "source": [
    "loss_df = pd.DataFrame(model.history.history)\n",
    "loss_df.plot()"
   ]
  },
  {
   "cell_type": "code",
   "execution_count": 63,
   "metadata": {},
   "outputs": [
    {
     "name": "stdout",
     "output_type": "stream",
     "text": [
      "loss :  0.3471357226371765\n",
      "accuracy :  0.8610000014305115\n"
     ]
    }
   ],
   "source": [
    "loss, accuracy = model.evaluate(X_test, y_test, verbose=0)\n",
    "print(\"loss : \", loss)\n",
    "print(\"accuracy : \", accuracy)"
   ]
  },
  {
   "cell_type": "code",
   "execution_count": 64,
   "metadata": {},
   "outputs": [
    {
     "name": "stdout",
     "output_type": "stream",
     "text": [
      "[[1537   56]\n",
      " [ 222  185]]\n",
      "              precision    recall  f1-score   support\n",
      "\n",
      "           0       0.87      0.96      0.92      1593\n",
      "           1       0.77      0.45      0.57       407\n",
      "\n",
      "    accuracy                           0.86      2000\n",
      "   macro avg       0.82      0.71      0.74      2000\n",
      "weighted avg       0.85      0.86      0.85      2000\n",
      "\n"
     ]
    }
   ],
   "source": [
    "y_pred = (model.predict(X_test) > 0.5).astype(\"int32\")\n",
    "#y_pred = model.predict_classes(X_test)\n",
    "print(confusion_matrix(y_test, y_pred))\n",
    "print(classification_report(y_test, y_pred))"
   ]
  },
  {
   "cell_type": "code",
   "execution_count": 65,
   "metadata": {},
   "outputs": [],
   "source": [
    "model.save('model_churn.h5')"
   ]
  },
  {
   "cell_type": "code",
   "execution_count": 66,
   "metadata": {},
   "outputs": [],
   "source": [
    "from tensorflow.keras.models import load_model"
   ]
  },
  {
   "cell_type": "code",
   "execution_count": 67,
   "metadata": {},
   "outputs": [],
   "source": [
    "model_churn = load_model('model_churn.h5') # for deployment we should load our h5 file of data.\n",
    "scaler_churn = pickle.load(open(\"scaler_churn\", \"rb\"))"
   ]
  },
  {
   "cell_type": "markdown",
   "metadata": {
    "id": "Cq10ovAX6daY"
   },
   "source": [
    "### Prediction"
   ]
  },
  {
   "cell_type": "code",
   "execution_count": 68,
   "metadata": {},
   "outputs": [
    {
     "data": {
      "text/html": [
       "<div>\n",
       "<style scoped>\n",
       "    .dataframe tbody tr th:only-of-type {\n",
       "        vertical-align: middle;\n",
       "    }\n",
       "\n",
       "    .dataframe tbody tr th {\n",
       "        vertical-align: top;\n",
       "    }\n",
       "\n",
       "    .dataframe thead th {\n",
       "        text-align: right;\n",
       "    }\n",
       "</style>\n",
       "<table border=\"1\" class=\"dataframe\">\n",
       "  <thead>\n",
       "    <tr style=\"text-align: right;\">\n",
       "      <th></th>\n",
       "      <th>CreditScore</th>\n",
       "      <th>Geography</th>\n",
       "      <th>Gender</th>\n",
       "      <th>Age</th>\n",
       "      <th>Tenure</th>\n",
       "      <th>Balance</th>\n",
       "      <th>NumOfProducts</th>\n",
       "      <th>HasCrCard</th>\n",
       "      <th>IsActiveMember</th>\n",
       "      <th>EstimatedSalary</th>\n",
       "    </tr>\n",
       "  </thead>\n",
       "  <tbody>\n",
       "    <tr>\n",
       "      <th>0</th>\n",
       "      <td>619</td>\n",
       "      <td>0</td>\n",
       "      <td>0</td>\n",
       "      <td>42</td>\n",
       "      <td>2</td>\n",
       "      <td>0.000</td>\n",
       "      <td>1</td>\n",
       "      <td>1</td>\n",
       "      <td>1</td>\n",
       "      <td>101348.880</td>\n",
       "    </tr>\n",
       "    <tr>\n",
       "      <th>1</th>\n",
       "      <td>608</td>\n",
       "      <td>2</td>\n",
       "      <td>0</td>\n",
       "      <td>41</td>\n",
       "      <td>1</td>\n",
       "      <td>83807.860</td>\n",
       "      <td>1</td>\n",
       "      <td>0</td>\n",
       "      <td>1</td>\n",
       "      <td>112542.580</td>\n",
       "    </tr>\n",
       "    <tr>\n",
       "      <th>2</th>\n",
       "      <td>502</td>\n",
       "      <td>0</td>\n",
       "      <td>0</td>\n",
       "      <td>42</td>\n",
       "      <td>8</td>\n",
       "      <td>159660.800</td>\n",
       "      <td>3</td>\n",
       "      <td>1</td>\n",
       "      <td>0</td>\n",
       "      <td>113931.570</td>\n",
       "    </tr>\n",
       "    <tr>\n",
       "      <th>3</th>\n",
       "      <td>699</td>\n",
       "      <td>0</td>\n",
       "      <td>0</td>\n",
       "      <td>39</td>\n",
       "      <td>1</td>\n",
       "      <td>0.000</td>\n",
       "      <td>2</td>\n",
       "      <td>0</td>\n",
       "      <td>0</td>\n",
       "      <td>93826.630</td>\n",
       "    </tr>\n",
       "    <tr>\n",
       "      <th>4</th>\n",
       "      <td>850</td>\n",
       "      <td>2</td>\n",
       "      <td>0</td>\n",
       "      <td>43</td>\n",
       "      <td>2</td>\n",
       "      <td>125510.820</td>\n",
       "      <td>1</td>\n",
       "      <td>1</td>\n",
       "      <td>1</td>\n",
       "      <td>79084.100</td>\n",
       "    </tr>\n",
       "    <tr>\n",
       "      <th>5</th>\n",
       "      <td>645</td>\n",
       "      <td>2</td>\n",
       "      <td>1</td>\n",
       "      <td>44</td>\n",
       "      <td>8</td>\n",
       "      <td>113755.780</td>\n",
       "      <td>2</td>\n",
       "      <td>1</td>\n",
       "      <td>0</td>\n",
       "      <td>149756.710</td>\n",
       "    </tr>\n",
       "    <tr>\n",
       "      <th>6</th>\n",
       "      <td>822</td>\n",
       "      <td>0</td>\n",
       "      <td>1</td>\n",
       "      <td>50</td>\n",
       "      <td>7</td>\n",
       "      <td>0.000</td>\n",
       "      <td>2</td>\n",
       "      <td>1</td>\n",
       "      <td>1</td>\n",
       "      <td>10062.800</td>\n",
       "    </tr>\n",
       "    <tr>\n",
       "      <th>7</th>\n",
       "      <td>376</td>\n",
       "      <td>1</td>\n",
       "      <td>0</td>\n",
       "      <td>29</td>\n",
       "      <td>4</td>\n",
       "      <td>115046.740</td>\n",
       "      <td>4</td>\n",
       "      <td>1</td>\n",
       "      <td>0</td>\n",
       "      <td>119346.880</td>\n",
       "    </tr>\n",
       "    <tr>\n",
       "      <th>8</th>\n",
       "      <td>501</td>\n",
       "      <td>0</td>\n",
       "      <td>1</td>\n",
       "      <td>44</td>\n",
       "      <td>4</td>\n",
       "      <td>142051.070</td>\n",
       "      <td>2</td>\n",
       "      <td>0</td>\n",
       "      <td>1</td>\n",
       "      <td>74940.500</td>\n",
       "    </tr>\n",
       "    <tr>\n",
       "      <th>9</th>\n",
       "      <td>684</td>\n",
       "      <td>0</td>\n",
       "      <td>1</td>\n",
       "      <td>27</td>\n",
       "      <td>2</td>\n",
       "      <td>134603.880</td>\n",
       "      <td>1</td>\n",
       "      <td>1</td>\n",
       "      <td>1</td>\n",
       "      <td>71725.730</td>\n",
       "    </tr>\n",
       "    <tr>\n",
       "      <th>10</th>\n",
       "      <td>528</td>\n",
       "      <td>0</td>\n",
       "      <td>1</td>\n",
       "      <td>31</td>\n",
       "      <td>6</td>\n",
       "      <td>102016.720</td>\n",
       "      <td>2</td>\n",
       "      <td>0</td>\n",
       "      <td>0</td>\n",
       "      <td>80181.120</td>\n",
       "    </tr>\n",
       "    <tr>\n",
       "      <th>11</th>\n",
       "      <td>497</td>\n",
       "      <td>2</td>\n",
       "      <td>1</td>\n",
       "      <td>24</td>\n",
       "      <td>3</td>\n",
       "      <td>0.000</td>\n",
       "      <td>2</td>\n",
       "      <td>1</td>\n",
       "      <td>0</td>\n",
       "      <td>76390.010</td>\n",
       "    </tr>\n",
       "    <tr>\n",
       "      <th>12</th>\n",
       "      <td>476</td>\n",
       "      <td>0</td>\n",
       "      <td>0</td>\n",
       "      <td>34</td>\n",
       "      <td>10</td>\n",
       "      <td>0.000</td>\n",
       "      <td>2</td>\n",
       "      <td>1</td>\n",
       "      <td>0</td>\n",
       "      <td>26260.980</td>\n",
       "    </tr>\n",
       "    <tr>\n",
       "      <th>13</th>\n",
       "      <td>549</td>\n",
       "      <td>0</td>\n",
       "      <td>0</td>\n",
       "      <td>25</td>\n",
       "      <td>5</td>\n",
       "      <td>0.000</td>\n",
       "      <td>2</td>\n",
       "      <td>0</td>\n",
       "      <td>0</td>\n",
       "      <td>190857.790</td>\n",
       "    </tr>\n",
       "    <tr>\n",
       "      <th>14</th>\n",
       "      <td>635</td>\n",
       "      <td>2</td>\n",
       "      <td>0</td>\n",
       "      <td>35</td>\n",
       "      <td>7</td>\n",
       "      <td>0.000</td>\n",
       "      <td>2</td>\n",
       "      <td>1</td>\n",
       "      <td>1</td>\n",
       "      <td>65951.650</td>\n",
       "    </tr>\n",
       "  </tbody>\n",
       "</table>\n",
       "</div>"
      ],
      "text/plain": [
       "    CreditScore  Geography  Gender  Age  Tenure    Balance  NumOfProducts  \\\n",
       "0           619          0       0   42       2      0.000              1   \n",
       "1           608          2       0   41       1  83807.860              1   \n",
       "2           502          0       0   42       8 159660.800              3   \n",
       "3           699          0       0   39       1      0.000              2   \n",
       "4           850          2       0   43       2 125510.820              1   \n",
       "5           645          2       1   44       8 113755.780              2   \n",
       "6           822          0       1   50       7      0.000              2   \n",
       "7           376          1       0   29       4 115046.740              4   \n",
       "8           501          0       1   44       4 142051.070              2   \n",
       "9           684          0       1   27       2 134603.880              1   \n",
       "10          528          0       1   31       6 102016.720              2   \n",
       "11          497          2       1   24       3      0.000              2   \n",
       "12          476          0       0   34      10      0.000              2   \n",
       "13          549          0       0   25       5      0.000              2   \n",
       "14          635          2       0   35       7      0.000              2   \n",
       "\n",
       "    HasCrCard  IsActiveMember  EstimatedSalary  \n",
       "0           1               1       101348.880  \n",
       "1           0               1       112542.580  \n",
       "2           1               0       113931.570  \n",
       "3           0               0        93826.630  \n",
       "4           1               1        79084.100  \n",
       "5           1               0       149756.710  \n",
       "6           1               1        10062.800  \n",
       "7           1               0       119346.880  \n",
       "8           0               1        74940.500  \n",
       "9           1               1        71725.730  \n",
       "10          0               0        80181.120  \n",
       "11          1               0        76390.010  \n",
       "12          1               0        26260.980  \n",
       "13          0               0       190857.790  \n",
       "14          1               1        65951.650  "
      ]
     },
     "execution_count": 68,
     "metadata": {},
     "output_type": "execute_result"
    }
   ],
   "source": [
    "single_client = data.drop('Exited', axis = 1).iloc[0:15, :]\n",
    "single_client"
   ]
  },
  {
   "cell_type": "code",
   "execution_count": 70,
   "metadata": {},
   "outputs": [
    {
     "data": {
      "text/plain": [
       "array([[0.538     , 0.        , 0.        , 0.32432432, 0.2       ,\n",
       "        0.        , 0.        , 1.        , 1.        , 0.50673489],\n",
       "       [0.516     , 1.        , 0.        , 0.31081081, 0.1       ,\n",
       "        0.35156138, 0.        , 0.        , 1.        , 0.56270874],\n",
       "       [0.304     , 0.        , 0.        , 0.32432432, 0.8       ,\n",
       "        0.66975307, 0.66666667, 1.        , 0.        , 0.56965435],\n",
       "       [0.698     , 0.        , 0.        , 0.28378378, 0.1       ,\n",
       "        0.        , 0.33333333, 0.        , 0.        , 0.46912005],\n",
       "       [1.        , 1.        , 0.        , 0.33783784, 0.2       ,\n",
       "        0.52649903, 0.        , 1.        , 1.        , 0.39540036],\n",
       "       [0.59      , 1.        , 1.        , 0.35135135, 0.8       ,\n",
       "        0.47718841, 0.33333333, 1.        , 0.        , 0.74879716],\n",
       "       [0.944     , 0.        , 1.        , 0.43243243, 0.7       ,\n",
       "        0.        , 0.33333333, 1.        , 1.        , 0.0502609 ],\n",
       "       [0.052     , 0.5       , 0.        , 0.14864865, 0.4       ,\n",
       "        0.48260379, 1.        , 1.        , 0.        , 0.59673349],\n",
       "       [0.302     , 0.        , 1.        , 0.35135135, 0.4       ,\n",
       "        0.5958829 , 0.33333333, 0.        , 1.        , 0.37468038],\n",
       "       [0.668     , 0.        , 1.        , 0.12162162, 0.2       ,\n",
       "        0.56464305, 0.        , 1.        , 1.        , 0.358605  ],\n",
       "       [0.356     , 0.        , 1.        , 0.17567568, 0.6       ,\n",
       "        0.42794481, 0.33333333, 0.        , 0.        , 0.40088598],\n",
       "       [0.294     , 1.        , 1.        , 0.08108108, 0.3       ,\n",
       "        0.        , 0.33333333, 1.        , 0.        , 0.38192862],\n",
       "       [0.252     , 0.        , 0.        , 0.21621622, 1.        ,\n",
       "        0.        , 0.33333333, 1.        , 0.        , 0.13125954],\n",
       "       [0.398     , 0.        , 0.        , 0.09459459, 0.5       ,\n",
       "        0.        , 0.33333333, 0.        , 0.        , 0.95432219],\n",
       "       [0.57      , 1.        , 0.        , 0.22972973, 0.7       ,\n",
       "        0.        , 0.33333333, 1.        , 1.        , 0.32973184]])"
      ]
     },
     "execution_count": 70,
     "metadata": {},
     "output_type": "execute_result"
    }
   ],
   "source": [
    "single_client = scaler_churn.transform(single_client)\n",
    "single_client"
   ]
  },
  {
   "cell_type": "code",
   "execution_count": 71,
   "metadata": {},
   "outputs": [
    {
     "data": {
      "text/plain": [
       "array([[0],\n",
       "       [0],\n",
       "       [1],\n",
       "       [0],\n",
       "       [0],\n",
       "       [0],\n",
       "       [0],\n",
       "       [1],\n",
       "       [0],\n",
       "       [0],\n",
       "       [0],\n",
       "       [0],\n",
       "       [0],\n",
       "       [0],\n",
       "       [0]], dtype=int32)"
      ]
     },
     "execution_count": 71,
     "metadata": {},
     "output_type": "execute_result"
    }
   ],
   "source": [
    "(model_churn.predict(single_client) > 0.5).astype(\"int32\")"
   ]
  },
  {
   "cell_type": "code",
   "execution_count": 73,
   "metadata": {},
   "outputs": [
    {
     "data": {
      "text/plain": [
       "0     1\n",
       "1     0\n",
       "2     1\n",
       "3     0\n",
       "4     0\n",
       "5     1\n",
       "6     0\n",
       "7     1\n",
       "8     0\n",
       "9     0\n",
       "10    0\n",
       "11    0\n",
       "12    0\n",
       "13    0\n",
       "14    0\n",
       "Name: Exited, dtype: int64"
      ]
     },
     "execution_count": 73,
     "metadata": {},
     "output_type": "execute_result"
    }
   ],
   "source": [
    "data[\"Exited\"].iloc[0:15]"
   ]
  },
  {
   "cell_type": "markdown",
   "metadata": {},
   "source": [
    "___\n",
    "\n",
    "<p style=\"text-align: center;\"><img src=\"https://docs.google.com/uc?id=1lY0Uj5R04yMY3-ZppPWxqCr5pvBLYPnV\" class=\"img-fluid\" alt=\"CLRSWY\"></p>\n",
    "\n",
    "___"
   ]
  },
  {
   "cell_type": "markdown",
   "metadata": {},
   "source": []
  }
 ],
 "metadata": {
  "colab": {
   "authorship_tag": "ABX9TyPKBWWuNpSuP7DHsa+Zpo3l",
   "collapsed_sections": [],
   "name": "Untitled0.ipynb",
   "provenance": []
  },
  "kernelspec": {
   "display_name": "Python 3",
   "language": "python",
   "name": "python3"
  },
  "language_info": {
   "codemirror_mode": {
    "name": "ipython",
    "version": 3
   },
   "file_extension": ".py",
   "mimetype": "text/x-python",
   "name": "python",
   "nbconvert_exporter": "python",
   "pygments_lexer": "ipython3",
   "version": "3.8.8"
  }
 },
 "nbformat": 4,
 "nbformat_minor": 1
}
